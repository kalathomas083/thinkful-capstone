{
  "nbformat": 4,
  "nbformat_minor": 0,
  "metadata": {
    "colab": {
      "name": "Twitter Sentiment Analysis.ipynb",
      "provenance": [],
      "collapsed_sections": [],
      "toc_visible": true,
      "machine_shape": "hm",
      "include_colab_link": true
    },
    "kernelspec": {
      "display_name": "Python 3",
      "language": "python",
      "name": "python3"
    },
    "language_info": {
      "codemirror_mode": {
        "name": "ipython",
        "version": 3
      },
      "file_extension": ".py",
      "mimetype": "text/x-python",
      "name": "python",
      "nbconvert_exporter": "python",
      "pygments_lexer": "ipython3",
      "version": "3.7.1"
    },
    "latex_envs": {
      "LaTeX_envs_menu_present": true,
      "autoclose": false,
      "autocomplete": true,
      "bibliofile": "biblio.bib",
      "cite_by": "apalike",
      "current_citInitial": 1,
      "eqLabelWithNumbers": true,
      "eqNumInitial": 1,
      "hotkeys": {
        "equation": "Ctrl-E",
        "itemize": "Ctrl-I"
      },
      "labels_anchors": false,
      "latex_user_defs": false,
      "report_style_numbering": false,
      "user_envs_cfg": false
    },
    "varInspector": {
      "cols": {
        "lenName": 16,
        "lenType": 16,
        "lenVar": 40
      },
      "kernels_config": {
        "python": {
          "delete_cmd_postfix": "",
          "delete_cmd_prefix": "del ",
          "library": "var_list.py",
          "varRefreshCmd": "print(var_dic_list())"
        },
        "r": {
          "delete_cmd_postfix": ") ",
          "delete_cmd_prefix": "rm(",
          "library": "var_list.r",
          "varRefreshCmd": "cat(var_dic_list()) "
        }
      },
      "types_to_exclude": [
        "module",
        "function",
        "builtin_function_or_method",
        "instance",
        "_Feature"
      ],
      "window_display": false
    }
  },
  "cells": [
    {
      "cell_type": "markdown",
      "metadata": {
        "id": "view-in-github",
        "colab_type": "text"
      },
      "source": [
        "<a href=\"https://colab.research.google.com/github/kalathomas083/thinkful-capstone/blob/master/Twitter_Sentiment_Analysis.ipynb\" target=\"_parent\"><img src=\"https://colab.research.google.com/assets/colab-badge.svg\" alt=\"Open In Colab\"/></a>"
      ]
    },
    {
      "cell_type": "markdown",
      "metadata": {
        "id": "KvHAvpclVoGy"
      },
      "source": [
        "# 1. Introduction\n",
        "\n",
        "Twitter has become a common way for people to communicate. Many influtential people, including the President of the United States, now make announcements using the medium. \n",
        "\n",
        "Is it possible for us to use this incredible data source to understand how people are feeling. For example the COVID pandemic has wreaked havoc on our lives and our economy. People are the key to the spread of the disease so could tweets be used to flesh out where there are pockets of people with negative sentiments about covid in order to focus a public health campaign?"
      ]
    },
    {
      "cell_type": "markdown",
      "metadata": {
        "id": "QqW-YFmiEKF4"
      },
      "source": [
        "# 2. Hypothesis\n",
        "\n",
        "Twitter sentiment analysis could be used to determine the population's ideas about various topics."
      ]
    },
    {
      "cell_type": "markdown",
      "metadata": {
        "id": "Ly8gnyHlEsFQ"
      },
      "source": [
        "# 3. Data\n",
        "\n",
        "The dataset was taken from Kaggle. There are 1.6 million tweets labaled with sentiments.\n",
        "\n",
        "https://www.kaggle.com/kazanova/sentiment140"
      ]
    },
    {
      "cell_type": "markdown",
      "metadata": {
        "id": "-IyK4o2EO6no"
      },
      "source": [
        "# 4. Model creation"
      ]
    },
    {
      "cell_type": "markdown",
      "metadata": {
        "id": "Ek9nzVrixgPD"
      },
      "source": [
        "## Data setup"
      ]
    },
    {
      "cell_type": "code",
      "metadata": {
        "id": "kDiaP8o8Oe36",
        "colab": {
          "base_uri": "https://localhost:8080/"
        },
        "outputId": "cec0ed2c-48a6-4ba8-fe9c-65a2fb95a2fd"
      },
      "source": [
        "!python -m spacy download en\n",
        "!pip install contractions\n",
        "!pip install httplib2==0.15.0\n",
        "import re\n",
        "import pickle\n",
        "from sklearn.externals import joblib\n",
        "\n",
        "import matplotlib.pyplot as plt\n",
        "import numpy as np\n",
        "import pandas as pd\n",
        "import random\n",
        "import sklearn\n",
        "import scipy\n",
        "from sklearn.preprocessing import StandardScaler\n",
        "from sklearn.decomposition import PCA #for PCA\n",
        "import warnings\n",
        "import contractions\n",
        "from sklearn.model_selection import cross_val_score\n",
        "import statsmodels.api as sm # sm.results()\n",
        "\n",
        "from sklearn.ensemble import RandomForestClassifier, GradientBoostingClassifier\n",
        "from sklearn.linear_model import LogisticRegression\n",
        "from sklearn.model_selection import train_test_split, GridSearchCV\n",
        "from sklearn.feature_extraction.text import CountVectorizer\n",
        "from sklearn.feature_extraction.text import TfidfVectorizer\n",
        "import gensim\n",
        "import spacy\n",
        "import string\n",
        "from wordcloud import WordCloud\n",
        "from collections import Counter\n",
        "from sklearn.metrics.pairwise import cosine_similarity\n",
        "\n",
        "from pydrive.auth import GoogleAuth\n",
        "from pydrive.drive import GoogleDrive\n",
        "from google.colab import auth\n",
        "from oauth2client.client import GoogleCredentials\n"
      ],
      "execution_count": null,
      "outputs": [
        {
          "output_type": "stream",
          "text": [
            "Requirement already satisfied: en_core_web_sm==2.2.5 from https://github.com/explosion/spacy-models/releases/download/en_core_web_sm-2.2.5/en_core_web_sm-2.2.5.tar.gz#egg=en_core_web_sm==2.2.5 in /usr/local/lib/python3.6/dist-packages (2.2.5)\n",
            "Requirement already satisfied: spacy>=2.2.2 in /usr/local/lib/python3.6/dist-packages (from en_core_web_sm==2.2.5) (2.2.4)\n",
            "Requirement already satisfied: thinc==7.4.0 in /usr/local/lib/python3.6/dist-packages (from spacy>=2.2.2->en_core_web_sm==2.2.5) (7.4.0)\n",
            "Requirement already satisfied: plac<1.2.0,>=0.9.6 in /usr/local/lib/python3.6/dist-packages (from spacy>=2.2.2->en_core_web_sm==2.2.5) (1.1.3)\n",
            "Requirement already satisfied: preshed<3.1.0,>=3.0.2 in /usr/local/lib/python3.6/dist-packages (from spacy>=2.2.2->en_core_web_sm==2.2.5) (3.0.2)\n",
            "Requirement already satisfied: srsly<1.1.0,>=1.0.2 in /usr/local/lib/python3.6/dist-packages (from spacy>=2.2.2->en_core_web_sm==2.2.5) (1.0.2)\n",
            "Requirement already satisfied: tqdm<5.0.0,>=4.38.0 in /usr/local/lib/python3.6/dist-packages (from spacy>=2.2.2->en_core_web_sm==2.2.5) (4.41.1)\n",
            "Requirement already satisfied: blis<0.5.0,>=0.4.0 in /usr/local/lib/python3.6/dist-packages (from spacy>=2.2.2->en_core_web_sm==2.2.5) (0.4.1)\n",
            "Requirement already satisfied: setuptools in /usr/local/lib/python3.6/dist-packages (from spacy>=2.2.2->en_core_web_sm==2.2.5) (50.3.2)\n",
            "Requirement already satisfied: requests<3.0.0,>=2.13.0 in /usr/local/lib/python3.6/dist-packages (from spacy>=2.2.2->en_core_web_sm==2.2.5) (2.23.0)\n",
            "Requirement already satisfied: catalogue<1.1.0,>=0.0.7 in /usr/local/lib/python3.6/dist-packages (from spacy>=2.2.2->en_core_web_sm==2.2.5) (1.0.0)\n",
            "Requirement already satisfied: numpy>=1.15.0 in /usr/local/lib/python3.6/dist-packages (from spacy>=2.2.2->en_core_web_sm==2.2.5) (1.18.5)\n",
            "Requirement already satisfied: wasabi<1.1.0,>=0.4.0 in /usr/local/lib/python3.6/dist-packages (from spacy>=2.2.2->en_core_web_sm==2.2.5) (0.8.0)\n",
            "Requirement already satisfied: cymem<2.1.0,>=2.0.2 in /usr/local/lib/python3.6/dist-packages (from spacy>=2.2.2->en_core_web_sm==2.2.5) (2.0.4)\n",
            "Requirement already satisfied: murmurhash<1.1.0,>=0.28.0 in /usr/local/lib/python3.6/dist-packages (from spacy>=2.2.2->en_core_web_sm==2.2.5) (1.0.3)\n",
            "Requirement already satisfied: urllib3!=1.25.0,!=1.25.1,<1.26,>=1.21.1 in /usr/local/lib/python3.6/dist-packages (from requests<3.0.0,>=2.13.0->spacy>=2.2.2->en_core_web_sm==2.2.5) (1.24.3)\n",
            "Requirement already satisfied: chardet<4,>=3.0.2 in /usr/local/lib/python3.6/dist-packages (from requests<3.0.0,>=2.13.0->spacy>=2.2.2->en_core_web_sm==2.2.5) (3.0.4)\n",
            "Requirement already satisfied: idna<3,>=2.5 in /usr/local/lib/python3.6/dist-packages (from requests<3.0.0,>=2.13.0->spacy>=2.2.2->en_core_web_sm==2.2.5) (2.10)\n",
            "Requirement already satisfied: certifi>=2017.4.17 in /usr/local/lib/python3.6/dist-packages (from requests<3.0.0,>=2.13.0->spacy>=2.2.2->en_core_web_sm==2.2.5) (2020.6.20)\n",
            "Requirement already satisfied: importlib-metadata>=0.20; python_version < \"3.8\" in /usr/local/lib/python3.6/dist-packages (from catalogue<1.1.0,>=0.0.7->spacy>=2.2.2->en_core_web_sm==2.2.5) (2.0.0)\n",
            "Requirement already satisfied: zipp>=0.5 in /usr/local/lib/python3.6/dist-packages (from importlib-metadata>=0.20; python_version < \"3.8\"->catalogue<1.1.0,>=0.0.7->spacy>=2.2.2->en_core_web_sm==2.2.5) (3.4.0)\n",
            "\u001b[38;5;2m✔ Download and installation successful\u001b[0m\n",
            "You can now load the model via spacy.load('en_core_web_sm')\n",
            "\u001b[38;5;2m✔ Linking successful\u001b[0m\n",
            "/usr/local/lib/python3.6/dist-packages/en_core_web_sm -->\n",
            "/usr/local/lib/python3.6/dist-packages/spacy/data/en\n",
            "You can now load the model via spacy.load('en')\n",
            "Requirement already satisfied: contractions in /usr/local/lib/python3.6/dist-packages (0.0.25)\n",
            "Requirement already satisfied: textsearch in /usr/local/lib/python3.6/dist-packages (from contractions) (0.0.17)\n",
            "Requirement already satisfied: pyahocorasick in /usr/local/lib/python3.6/dist-packages (from textsearch->contractions) (1.4.0)\n",
            "Requirement already satisfied: Unidecode in /usr/local/lib/python3.6/dist-packages (from textsearch->contractions) (1.1.1)\n",
            "Requirement already satisfied: httplib2==0.15.0 in /usr/local/lib/python3.6/dist-packages (0.15.0)\n"
          ],
          "name": "stdout"
        }
      ]
    },
    {
      "cell_type": "markdown",
      "metadata": {
        "id": "FwGoUPimxl6L"
      },
      "source": [
        "Mount Google drive so the tweet data can be imported directly"
      ]
    },
    {
      "cell_type": "code",
      "metadata": {
        "id": "GwqKBYkyNTRi"
      },
      "source": [
        "  auth.authenticate_user()\n",
        "  gauth = GoogleAuth()\n",
        "  gauth.credentials = GoogleCredentials.get_application_default()\n",
        "  mypydrive = GoogleDrive(gauth)"
      ],
      "execution_count": null,
      "outputs": []
    },
    {
      "cell_type": "code",
      "metadata": {
        "id": "t3Ca4dCPyJZu",
        "colab": {
          "base_uri": "https://localhost:8080/"
        },
        "outputId": "81f6e444-1fc0-446d-f7fe-cebd81e87b89"
      },
      "source": [
        "from google.colab import drive\n",
        "drive.mount('/content/drive')"
      ],
      "execution_count": null,
      "outputs": [
        {
          "output_type": "stream",
          "text": [
            "Mounted at /content/drive\n"
          ],
          "name": "stdout"
        }
      ]
    },
    {
      "cell_type": "markdown",
      "metadata": {
        "id": "ZbrrV7ftxvOr"
      },
      "source": [
        "The data have no columns so need to create names and match to import."
      ]
    },
    {
      "cell_type": "code",
      "metadata": {
        "id": "byxiB5XiRgbN"
      },
      "source": [
        "column_names = ['sentiment','id','date_time','query','user_name','text']\n",
        "df = pd.read_csv('/content/drive/My Drive/Thinkful/Homework Assignments/Final Capstone/Tweets/training.1600000.processed.noemoticon.csv', encoding='latin-1',names=column_names)"
      ],
      "execution_count": null,
      "outputs": []
    },
    {
      "cell_type": "markdown",
      "metadata": {
        "id": "ONlg1omex2Uf"
      },
      "source": [
        "The 'query' or 'id' features aren't useful here so I'll drop them."
      ]
    },
    {
      "cell_type": "code",
      "metadata": {
        "id": "qQfiOcSMKp_N"
      },
      "source": [
        "df.drop(['query','id'],axis=1, inplace=True)\n",
        "df.dropna(subset=['sentiment','text'],inplace=True)"
      ],
      "execution_count": null,
      "outputs": []
    },
    {
      "cell_type": "code",
      "metadata": {
        "id": "pZ6gx_M7CKiA",
        "colab": {
          "base_uri": "https://localhost:8080/",
          "height": 279
        },
        "outputId": "9516f8e1-3f41-4ee2-c2d7-3fe9ef22ccc6"
      },
      "source": [
        "# Look at the number of unique values for each column\n",
        "df.sentiment.value_counts().plot(kind='bar')"
      ],
      "execution_count": null,
      "outputs": [
        {
          "output_type": "execute_result",
          "data": {
            "text/plain": [
              "<matplotlib.axes._subplots.AxesSubplot at 0x7f4d969f4f28>"
            ]
          },
          "metadata": {
            "tags": []
          },
          "execution_count": 6
        },
        {
          "output_type": "display_data",
          "data": {
            "image/png": "[encoded data removed]",
            "text/plain": [
              "<Figure size 432x288 with 1 Axes>"
            ]
          },
          "metadata": {
            "tags": [],
            "needs_background": "light"
          }
        }
      ]
    },
    {
      "cell_type": "markdown",
      "metadata": {
        "id": "O6IxcgRuyOrr"
      },
      "source": [
        "Taking a look at the division of sentiments there is an even split between 4 (positive) and 0 (negative). I don't think 0 and 4 make sense as labels so I'm going to map 0's and 1's."
      ]
    },
    {
      "cell_type": "code",
      "metadata": {
        "id": "aUdU7dsh_zow"
      },
      "source": [
        "df.sentiment = df.sentiment.map({0: 0, 4: 1})"
      ],
      "execution_count": null,
      "outputs": []
    },
    {
      "cell_type": "markdown",
      "metadata": {
        "id": "rZQQd2Dxyec0"
      },
      "source": [
        "Due to limited resources, I can't process 1.6 million tweets so I'm going to take a subset. I want the tweets to still be evenly split so I'm going to separate the tweets by sentiment, pull the desired number and combine them back together."
      ]
    },
    {
      "cell_type": "code",
      "metadata": {
        "id": "GmUvs1VPAous",
        "colab": {
          "base_uri": "https://localhost:8080/"
        },
        "outputId": "5f1229a6-2a85-486a-844d-000513740d34"
      },
      "source": [
        "def get_sample(df, sample_size):\n",
        "  '''\n",
        "  This function takes 2 data frames and a requested sample size size and splits\n",
        "  the data frames evenly and then combines them returning one data frame with\n",
        "  a row number = to the sample size requested.\n",
        "  '''\n",
        "  negative_tweets = df.loc[df['sentiment'] == 0]\n",
        "  positive_tweets = df.loc[df['sentiment'] == 1]\n",
        "  sample_half = int(sample_size / 2)\n",
        "  # df_sample1 = df1.sample(n=sample_half)\n",
        "  # df_sample2 = df2.sample(n=sample_half)\n",
        "  df_sample1 = negative_tweets.head(sample_half)\n",
        "  df_sample2 = positive_tweets.head(sample_half)\n",
        "  df_sample = pd.concat([df_sample1,df_sample2])\n",
        "  df_sample.reset_index(drop=True, inplace=True)\n",
        "  return df_sample\n",
        "\n",
        "df_sample = get_sample(df, 5000)\n",
        "df_sample.sentiment.value_counts()"
      ],
      "execution_count": null,
      "outputs": [
        {
          "output_type": "execute_result",
          "data": {
            "text/plain": [
              "1    2500\n",
              "0    2500\n",
              "Name: sentiment, dtype: int64"
            ]
          },
          "metadata": {
            "tags": []
          },
          "execution_count": 8
        }
      ]
    },
    {
      "cell_type": "markdown",
      "metadata": {
        "id": "NHbPkRjH7i6t"
      },
      "source": [
        "## Text cleaning"
      ]
    },
    {
      "cell_type": "markdown",
      "metadata": {
        "id": "Qi6v_PmSyyfB"
      },
      "source": [
        "Next I need to clean the text by removing punctuation, mentions, hyperlinks and other various problems presented by tweets."
      ]
    },
    {
      "cell_type": "code",
      "metadata": {
        "id": "O8LQ5HVlTOdb"
      },
      "source": [
        "# Text cleaning\n",
        "def text_cleaner(this_text):\n",
        "  '''\n",
        "  This function takes text and cleans it for text analysis.\n",
        "  '''\n",
        "  text = this_text.copy()\n",
        "  for i in range(text.shape[0]):\n",
        "    text.iloc[i] = re.sub(r\"&quot;\", \"\\\"\", text.iloc[i])\n",
        "    text.iloc[i] = re.sub(r\"(http://)\\S+\", \" \", text.iloc[i])\n",
        "    text.iloc[i] = re.sub(r\"[;:][A-Z]\", \" \", text.iloc[i])\n",
        "    text.iloc[i] = re.sub(r\"@\\S+\", \" \", text.iloc[i])\n",
        "    text.iloc[i] = re.sub(r\" - \", \" \", text.iloc[i])\n",
        "    text.iloc[i] = re.sub(r\"[^A-Za-z0-9^,!?.\\/'+]\", \" \", text.iloc[i])\n",
        "    text.iloc[i] = re.sub(r\"\\+\", \" plus \", text.iloc[i])\n",
        "    text.iloc[i] = re.sub(r\",\", \" \", text.iloc[i])\n",
        "    text.iloc[i] = re.sub(r\"\\.\", \" \", text.iloc[i])\n",
        "    text.iloc[i] = re.sub(r\"!\", \" \", text.iloc[i])\n",
        "    text.iloc[i] = re.sub(r\"\\?\", \" \", text.iloc[i])\n",
        "    text.iloc[i] = re.sub(r\"\\S*\\d+\\S*\", \" \", text.iloc[i])\n",
        "    text.iloc[i] = re.sub(r\"(.)\\1{2,}\", r\"\\1\\1\", text.iloc[i])\n",
        "    text.iloc[i] = re.sub(r\"\\S*:\\S*\", \" : \", text.iloc[i])\n",
        "    text.iloc[i] = re.sub(r\"\\s{2,}\", \" \", text.iloc[i])\n",
        "    text.iloc[i] = re.sub(r\"[^\\x00-\\x7F]+\", \" \", text.iloc[i])\n",
        "    text.iloc[i] = text.iloc[i].strip().lower()\n",
        "  return text\n",
        "\n",
        "df_sample['cleaned'] = text_cleaner(df_sample.text)"
      ],
      "execution_count": null,
      "outputs": []
    },
    {
      "cell_type": "markdown",
      "metadata": {
        "id": "r83EJJFNzJOQ"
      },
      "source": [
        "I'm going to use spacy to remove stop words and any remaining punctuation. Additionally I'm going to expand contractions in order to get a better look at the data."
      ]
    },
    {
      "cell_type": "code",
      "metadata": {
        "id": "KxaQ56tXoNGq"
      },
      "source": [
        "# Load spacy NLP model\n",
        "nlp = spacy.load('en')\n",
        "\n",
        "# Apply model to each row of the dataframe\n",
        "df_sample['spacy'] = df_sample['cleaned'].apply(lambda x: nlp(' '.join([contractions.fix(word) for word in x.split()])))\n",
        "\n",
        "def nlp_cleaner(df,column='spacy'):\n",
        "  '''\n",
        "  takes the data from the specified spacy column to remove stop words and \n",
        "  punctuation. The data overwrites the 'cleaned' dataframe\n",
        "  '''\n",
        "  for i, sentence in enumerate(df[column]):\n",
        "    current_one = df.loc[i, column]\n",
        "    this_sentence = []\n",
        "    for token in current_one:\n",
        "      if not token.is_stop and not token.is_punct:\n",
        "        this_sentence.append(token.lemma_)\n",
        "    this_sentence = ' '.join(this_sentence)\n",
        "    df.loc[i, \"cleaned\"] = this_sentence\n",
        "  return df\n",
        "\n",
        "cleaned_df = nlp_cleaner(df_sample)"
      ],
      "execution_count": null,
      "outputs": []
    },
    {
      "cell_type": "code",
      "metadata": {
        "colab": {
          "base_uri": "https://localhost:8080/",
          "height": 198
        },
        "id": "lrbN4m52sFxz",
        "outputId": "5061d4e1-f77f-4dcf-d69f-2c3562d67502"
      },
      "source": [
        "# Combine the cleaned tweets to one string\n",
        "tweets_as_str = \" \".join(cleaned_df.cleaned)\n",
        "\n",
        "# Create and show word cloud\n",
        "wordcloud = WordCloud().generate(tweets_as_str)\n",
        "plt.imshow(wordcloud, interpolation='bilinear')\n",
        "plt.axis(\"off\")\n",
        "plt.show()"
      ],
      "execution_count": null,
      "outputs": [
        {
          "output_type": "display_data",
          "data": {
            "image/png": "[encoded data removed]",
            "text/plain": [
              "<Figure size 432x288 with 1 Axes>"
            ]
          },
          "metadata": {
            "tags": [],
            "needs_background": "light"
          }
        }
      ]
    },
    {
      "cell_type": "code",
      "metadata": {
        "colab": {
          "base_uri": "https://localhost:8080/",
          "height": 367
        },
        "id": "bssKLpGIu0xc",
        "outputId": "8ab0edad-d01b-4eed-9b8f-4d9cabb052a8"
      },
      "source": [
        "# Convert one string to list of words\n",
        "wordlist = tweets_as_str.split()\n",
        "\n",
        "# Count the frequency in wordlist\n",
        "word_counter = Counter(wordlist)\n",
        "# Find the 20 most common\n",
        "highest = word_counter.most_common(20)\n",
        "\n",
        "# Sort by count descending\n",
        "highest.sort(key=lambda x: x[1], reverse=True)\n",
        "# Split the tuples for graphing\n",
        "word, counts = zip(*highest)\n",
        "\n",
        "# Graph the frequency\n",
        "plt.figure(figsize=(20,5))\n",
        "plt.bar(word, counts)\n",
        "plt.title('Tweet Word Counts')\n",
        "plt.xlabel('Word')\n",
        "plt.ylabel('Counts')"
      ],
      "execution_count": null,
      "outputs": [
        {
          "output_type": "execute_result",
          "data": {
            "text/plain": [
              "Text(0, 0.5, 'Counts')"
            ]
          },
          "metadata": {
            "tags": []
          },
          "execution_count": 59
        },
        {
          "output_type": "display_data",
          "data": {
            "image/png": "[encoded data removed]",
            "text/plain": [
              "<Figure size 1440x360 with 1 Axes>"
            ]
          },
          "metadata": {
            "tags": [],
            "needs_background": "light"
          }
        }
      ]
    },
    {
      "cell_type": "markdown",
      "metadata": {
        "id": "GPpevmwC7pt0"
      },
      "source": [
        "## Word vectorizing"
      ]
    },
    {
      "cell_type": "code",
      "metadata": {
        "id": "3VU_2OoapQxg"
      },
      "source": [
        "# Function to convert dataframe to sparse array\n",
        "def convert_to_sparse_pandas(df, exclude_columns=[]):\n",
        "    \"\"\"\n",
        "    Converts columns of a data frame into SparseArrays and returns the data frame with transformed columns.\n",
        "    Use exclude_columns to specify columns to be excluded from transformation.\n",
        "    :param df: pandas data frame\n",
        "    :param exclude_columns: list\n",
        "        Columns not be converted to sparse\n",
        "    :return: pandas data frame\n",
        "    \"\"\"\n",
        "    df = df.copy()\n",
        "    exclude_columns = set(exclude_columns)\n",
        "\n",
        "    for (columnName, columnData) in df.iteritems():\n",
        "        if columnName in exclude_columns:\n",
        "            continue\n",
        "        df[columnName] = pd.SparseArray(columnData.values, dtype='uint8')\n",
        "\n",
        "    return df"
      ],
      "execution_count": null,
      "outputs": []
    },
    {
      "cell_type": "code",
      "metadata": {
        "id": "P5i8M1h3gbhR",
        "colab": {
          "base_uri": "https://localhost:8080/"
        },
        "outputId": "95453525-bd11-4b7f-af8d-4b431957bd36"
      },
      "source": [
        "def words_to_numbers(df,column):\n",
        "  '''\n",
        "  Converts the specified column from words to various numbers\n",
        "  including bag of words ngram(1,2), TF-IDF, and Word2Vec. The data is then converted\n",
        "  to a sparse array using the convert_to_sparse_pandas above.\n",
        "  It also combines each into one master sparse array.\n",
        "  '''\n",
        "  # Bag of Words\n",
        "  vectorizer = CountVectorizer(analyzer='word', ngram_range=(1,2))\n",
        "  X = vectorizer.fit_transform(df[column])\n",
        "  bow_arr = pd.DataFrame(X.toarray(), columns=vectorizer.get_feature_names())\n",
        "  bow_df = pd.concat([df.sentiment,bow_arr], axis=1)\n",
        "  bow_df.dropna(inplace=True)\n",
        "  bow_df = convert_to_sparse_pandas(bow_df) #convert to sparse array\n",
        "  bow_df = bow_df.T.drop_duplicates().T #drop duplicates\n",
        "\n",
        "  # TF-IDF\n",
        "  vectorizer = TfidfVectorizer(max_df=0.5, min_df=2, stop_words='english', use_idf=True, norm=u'l2', smooth_idf=True)\n",
        "  X = vectorizer.fit_transform(df[column])\n",
        "  tfidf_arr = pd.DataFrame(X.toarray(), columns=vectorizer.get_feature_names())\n",
        "  tfidf_df = pd.concat([df.sentiment, tfidf_arr], axis=1)\n",
        "  tfidf_df.dropna(inplace=True)\n",
        "  tfidf_df = convert_to_sparse_pandas(tfidf_df)\n",
        "\n",
        "  # Word2Vec\n",
        "  sample_size = 100\n",
        "  model = gensim.models.Word2Vec(\n",
        "    df[column],\n",
        "    workers=4,\n",
        "    min_count=1,\n",
        "    window=6,\n",
        "    sg=0,\n",
        "    sample=1e-3,\n",
        "    size=sample_size,\n",
        "    hs=1\n",
        "  )\n",
        "  word2vec_arr = np.zeros((df.shape[0],sample_size))\n",
        "  for i, sentence in enumerate(df[column]):\n",
        "      word2vec_arr[i,:] = np.mean([model[lemma] for lemma in sentence], axis=0)\n",
        "  word2vec_arr = pd.DataFrame(word2vec_arr)\n",
        "  w2v_df = pd.concat([df.sentiment,word2vec_arr], axis=1)\n",
        "  w2v_df.dropna(inplace=True)\n",
        "  w2v_df = convert_to_sparse_pandas(w2v_df)\n",
        "\n",
        "  # All DF\n",
        "  all_df = pd.concat([df.sentiment,tfidf_arr,word2vec_arr,bow_arr], axis=1)\n",
        "  all_df.dropna(inplace=True)\n",
        "  all_df = convert_to_sparse_pandas(all_df)\n",
        "  all_df = all_df.T.drop_duplicates().T\n",
        "\n",
        "  return bow_df, tfidf_df, w2v_df, all_df\n",
        "\n",
        "bow_df, tfidf_df, w2v_df, all_df = words_to_numbers(df_sample,'cleaned')"
      ],
      "execution_count": null,
      "outputs": [
        {
          "output_type": "stream",
          "text": [
            "/usr/local/lib/python3.6/dist-packages/ipykernel_launcher.py:17: FutureWarning: The pandas.SparseArray class is deprecated and will be removed from pandas in a future version. Use pandas.arrays.SparseArray instead.\n",
            "/usr/local/lib/python3.6/dist-packages/ipykernel_launcher.py:17: FutureWarning: The pandas.SparseArray class is deprecated and will be removed from pandas in a future version. Use pandas.arrays.SparseArray instead.\n",
            "/usr/local/lib/python3.6/dist-packages/ipykernel_launcher.py:39: DeprecationWarning: Call to deprecated `__getitem__` (Method will be removed in 4.0.0, use self.wv.__getitem__() instead).\n",
            "/usr/local/lib/python3.6/dist-packages/numpy/core/fromnumeric.py:3335: RuntimeWarning: Mean of empty slice.\n",
            "  out=out, **kwargs)\n",
            "/usr/local/lib/python3.6/dist-packages/numpy/core/_methods.py:161: RuntimeWarning: invalid value encountered in double_scalars\n",
            "  ret = ret.dtype.type(ret / rcount)\n",
            "/usr/local/lib/python3.6/dist-packages/ipykernel_launcher.py:17: FutureWarning: The pandas.SparseArray class is deprecated and will be removed from pandas in a future version. Use pandas.arrays.SparseArray instead.\n",
            "/usr/local/lib/python3.6/dist-packages/ipykernel_launcher.py:17: FutureWarning: The pandas.SparseArray class is deprecated and will be removed from pandas in a future version. Use pandas.arrays.SparseArray instead.\n"
          ],
          "name": "stderr"
        }
      ]
    },
    {
      "cell_type": "code",
      "metadata": {
        "id": "h_51UbfhlZmA"
      },
      "source": [
        "def super_dump(variable_list):\n",
        "  '''\n",
        "  This function takes a list of variables as strings and then performs\n",
        "  pickle dump and uploads to the pickle dump folder in Google drive\n",
        "  '''\n",
        "  # PyDrive setup\n",
        "  auth.authenticate_user()\n",
        "  gauth = GoogleAuth()\n",
        "  gauth.credentials = GoogleCredentials.get_application_default()\n",
        "  mypydrive = GoogleDrive(gauth)\n",
        "\n",
        "  # Loop through list\n",
        "  for variable in variable_list:\n",
        "    pickle.dump( globals()['%s' % variable], open( variable+'.pkl', \"wb\" ) )\n",
        "    file = mypydrive.CreateFile({'parents': [{'id': '1cNKHSFu8hHdqjBx79Kv22V9nGpTwBVlG'}], 'title': variable+'.pkl'})\n",
        "    file.SetContentFile(variable+'.pkl')\n",
        "    file.Upload() "
      ],
      "execution_count": null,
      "outputs": []
    },
    {
      "cell_type": "code",
      "metadata": {
        "id": "jJ3KEedQ7vZ4"
      },
      "source": [
        "super_dump_variables = ['bow_df', 'tfidf_df', 'w2v_df', 'all_df']\n",
        "super_dump(super_dump_variables)"
      ],
      "execution_count": null,
      "outputs": []
    },
    {
      "cell_type": "code",
      "metadata": {
        "id": "jKOEkdKeobyq"
      },
      "source": [
        "def super_load(variable_list):\n",
        "  '''\n",
        "  This function takes a list of variables as strings and then finds the file\n",
        "  in Google drive and downloads the file back into variables\n",
        "  '''\n",
        "  # PyDrive setup\n",
        "  auth.authenticate_user()\n",
        "  gauth = GoogleAuth()\n",
        "  gauth.credentials = GoogleCredentials.get_application_default()\n",
        "  mypydrive = GoogleDrive(gauth)\n",
        "\n",
        "  # Loop through list\n",
        "  for variable in variable_list:\n",
        "    # file = mypydrive.CreateFile({'parents': [{'id': '10qfuAXMkIv3gw5Hk9NUZW5gd-X5l1JvI'}], 'title': variable+'.pkl'})\n",
        "    # file.SetContentFile(variable+'.pkl')\n",
        "    globals()['%s' % variable] = pickle.load( open( variable+'.pkl', \"rb\" ) )\n",
        "    # print(globals()['testing%s' % variable])\n",
        "\n",
        "dump_dfs = ['bow_df', 'tfidf_df', 'w2v_df', 'all_df']\n",
        "super_load(dump_dfs)"
      ],
      "execution_count": null,
      "outputs": []
    },
    {
      "cell_type": "markdown",
      "metadata": {
        "id": "ztmxnvjkZ7yT"
      },
      "source": [
        "## Model functions"
      ]
    },
    {
      "cell_type": "code",
      "metadata": {
        "id": "bdkwz7eT-Nz3"
      },
      "source": [
        "# globals()['model%s' % variable_number]\n",
        "def lr_maker(df,target):\n",
        "  # '''\n",
        "  # This function splits requested data into X and Y and then again\n",
        "  # into test, train split. The data is then run through a logistic regression\n",
        "  # model and both a score and CV score are supplied.\n",
        "  # '''\n",
        "  df.dropna(inplace=True)\n",
        "  X = df.iloc[:,1:]\n",
        "  Y = df.iloc[:,0]\n",
        "\n",
        "  # Test train split\n",
        "  X_train, X_test, y_train, y_test = train_test_split(X, Y, test_size=0.3, random_state=42)\n",
        "\n",
        "  lr = LogisticRegression(random_state=2, max_iter=1000)\n",
        "\n",
        "  lr.fit(X_train, y_train)\n",
        "\n",
        "  lr_score = round(lr.score(X_test, y_test),2)\n",
        "  lr_cv_score = round(cross_val_score(lr, X, Y, cv=5).mean(),2)\n",
        "  return lr_score, lr_cv_score\n",
        "\n",
        "def rfc_maker(df,target):\n",
        "  '''\n",
        "  This function splits requested data into X and Y and then again\n",
        "  into test, train split. The data is then run through a RFC\n",
        "  model and both a score and CV score are supplied.\n",
        "  '''\n",
        "  df.dropna(inplace=True)\n",
        "  X = df.iloc[:,1:]\n",
        "  Y = df.iloc[:,0]\n",
        "\n",
        "  # Test train split\n",
        "  X_train, X_test, y_train, y_test = train_test_split(X, Y, test_size=0.3, random_state=42)\n",
        "\n",
        "  rfc = RandomForestClassifier()\n",
        "  rfc.fit(X_train, y_train)\n",
        "  rfc_score = round(rfc.score(X_test, y_test),2)\n",
        "  rfc_cv_score = round(cross_val_score(rfc, X, Y, cv=5).mean(),2)\n",
        "\n",
        "  return rfc_score, rfc_cv_score\n",
        "\n",
        "def gbc_maker(df,target):\n",
        "  '''\n",
        "  This function splits requested data into X and Y and then again\n",
        "  into test, train split. The data is then run through a GBC\n",
        "  model and both a score and CV score are supplied.\n",
        "  '''\n",
        "  df.dropna(inplace=True)\n",
        "  X = df.iloc[:,1:]\n",
        "  Y = df.iloc[:,0]\n",
        "\n",
        "  # Test train split\n",
        "  X_train, X_test, y_train, y_test = train_test_split(X, Y, test_size=0.3, random_state=42)\n",
        "\n",
        "  gbc = GradientBoostingClassifier()  \n",
        "  gbc.fit(X_train, y_train)\n",
        "  gbc_score = round(gbc.score(X_test, y_test),2)\n",
        "  gbc_cv_score = round(cross_val_score(gbc, X, Y, cv=5).mean(),2)\n",
        "\n",
        "  return gbc_score, gbc_cv_score\n",
        "\n",
        "def all_models(df_list,target):\n",
        "  '''\n",
        "  This function loops through a list of data frames and then calls the \n",
        "  lr_maker, rfc_maker, and gbc_maker and combines the scores into a \n",
        "  master score data frame which is then returned.\n",
        "  '''\n",
        "  score_dict = {}\n",
        "  for i, df in enumerate(df_list):\n",
        "    name = [x for x in globals() if globals()[x] is df][0] #gets df name\n",
        "    score_dict[name] = {}\n",
        "    score_dict[name]['lr'] = list(lr_maker(df,target))\n",
        "    # print(name,'lr',score_dict[name]['lr'])\n",
        "    score_dict[name]['rfc'] = list(rfc_maker(df,target))\n",
        "    # print(name,'rfc',score_dict[name]['rfc'])\n",
        "    score_dict[name]['gbc'] = list(gbc_maker(df,target))\n",
        "    # print(name,'gbc',score_dict[name]['gbc'])\n",
        "  scores_df = pd.DataFrame.from_dict(score_dict)\n",
        "  # print(scores_df)\n",
        "  return scores_df\n",
        "\n",
        "def pca_maker(df_list,target):\n",
        "  '''\n",
        "  This function loops through a data frame list and performs PCA on each with\n",
        "  components numbering 2-7 and creates a global data frame and a list of the \n",
        "  names of each data frame created.\n",
        "  '''\n",
        "  variable_list = []\n",
        "  for df in df_list:\n",
        "    X = df.loc[:, df.columns != target]\n",
        "    Y = df[target]\n",
        "    scaler = StandardScaler()\n",
        "    X = scaler.fit_transform(X)\n",
        "\n",
        "    name = [x for x in globals() if globals()[x] is df][0]\n",
        "    variable_list.append(name)\n",
        "    for i in range(2,8):\n",
        "      pca = PCA(n_components=i)\n",
        "      this_pca = pca.fit_transform(X)\n",
        "      globals()['%s_pca_%s' % (name, i)] = pd.concat([Y,pd.DataFrame(data=this_pca)], axis=1)\n",
        "      variable_list.append(name + \"_pca_\" + str(i))\n",
        "  return variable_list"
      ],
      "execution_count": null,
      "outputs": []
    },
    {
      "cell_type": "markdown",
      "metadata": {
        "id": "vmDgd38uU3QA"
      },
      "source": [
        "Because there are so many features in each data frame, I want to use PCA to see how it affects model performance. "
      ]
    },
    {
      "cell_type": "code",
      "metadata": {
        "id": "AT6MzyMMPtqF",
        "colab": {
          "base_uri": "https://localhost:8080/"
        },
        "outputId": "36ff5db0-b3bb-42fc-f6bb-f3031b2d57d9"
      },
      "source": [
        "list_of_all_df = pca_maker([bow_df_1000, bow_df_2500, bow_df, tfidf_df, w2v_df, all_df],'sentiment')\n",
        "list_of_all_df "
      ],
      "execution_count": null,
      "outputs": [
        {
          "output_type": "stream",
          "text": [
            "/usr/local/lib/python3.6/dist-packages/sklearn/decomposition/_pca.py:545: RuntimeWarning: invalid value encountered in true_divide\n",
            "  self.explained_variance_ / total_var.sum()\n",
            "/usr/local/lib/python3.6/dist-packages/sklearn/decomposition/_pca.py:545: RuntimeWarning: invalid value encountered in true_divide\n",
            "  self.explained_variance_ / total_var.sum()\n",
            "/usr/local/lib/python3.6/dist-packages/sklearn/decomposition/_pca.py:545: RuntimeWarning: invalid value encountered in true_divide\n",
            "  self.explained_variance_ / total_var.sum()\n",
            "/usr/local/lib/python3.6/dist-packages/sklearn/decomposition/_pca.py:545: RuntimeWarning: invalid value encountered in true_divide\n",
            "  self.explained_variance_ / total_var.sum()\n",
            "/usr/local/lib/python3.6/dist-packages/sklearn/decomposition/_pca.py:545: RuntimeWarning: invalid value encountered in true_divide\n",
            "  self.explained_variance_ / total_var.sum()\n",
            "/usr/local/lib/python3.6/dist-packages/sklearn/decomposition/_pca.py:545: RuntimeWarning: invalid value encountered in true_divide\n",
            "  self.explained_variance_ / total_var.sum()\n"
          ],
          "name": "stderr"
        },
        {
          "output_type": "execute_result",
          "data": {
            "text/plain": [
              "['bow_df_1000',\n",
              " 'bow_df_1000_pca_2',\n",
              " 'bow_df_1000_pca_3',\n",
              " 'bow_df_1000_pca_4',\n",
              " 'bow_df_1000_pca_5',\n",
              " 'bow_df_1000_pca_6',\n",
              " 'bow_df_1000_pca_7',\n",
              " 'bow_df_2500',\n",
              " 'bow_df_2500_pca_2',\n",
              " 'bow_df_2500_pca_3',\n",
              " 'bow_df_2500_pca_4',\n",
              " 'bow_df_2500_pca_5',\n",
              " 'bow_df_2500_pca_6',\n",
              " 'bow_df_2500_pca_7',\n",
              " 'bow_df',\n",
              " 'bow_df_pca_2',\n",
              " 'bow_df_pca_3',\n",
              " 'bow_df_pca_4',\n",
              " 'bow_df_pca_5',\n",
              " 'bow_df_pca_6',\n",
              " 'bow_df_pca_7',\n",
              " 'tfidf_df',\n",
              " 'tfidf_df_pca_2',\n",
              " 'tfidf_df_pca_3',\n",
              " 'tfidf_df_pca_4',\n",
              " 'tfidf_df_pca_5',\n",
              " 'tfidf_df_pca_6',\n",
              " 'tfidf_df_pca_7',\n",
              " 'w2v_df',\n",
              " 'w2v_df_pca_2',\n",
              " 'w2v_df_pca_3',\n",
              " 'w2v_df_pca_4',\n",
              " 'w2v_df_pca_5',\n",
              " 'w2v_df_pca_6',\n",
              " 'w2v_df_pca_7',\n",
              " 'all_df',\n",
              " 'all_df_pca_2',\n",
              " 'all_df_pca_3',\n",
              " 'all_df_pca_4',\n",
              " 'all_df_pca_5',\n",
              " 'all_df_pca_6',\n",
              " 'all_df_pca_7']"
            ]
          },
          "metadata": {
            "tags": []
          },
          "execution_count": 20
        }
      ]
    },
    {
      "cell_type": "markdown",
      "metadata": {
        "id": "NA484yFPUuT6"
      },
      "source": [
        "# 5. Results"
      ]
    },
    {
      "cell_type": "markdown",
      "metadata": {
        "id": "O1sn0ESpYmra"
      },
      "source": [
        "I will run my data frames through the function I created to provide lr, rfc, and gbc scores for each. The first number is the score using the .score function and the second number is the average CV score."
      ]
    },
    {
      "cell_type": "code",
      "metadata": {
        "id": "uqAMTi95U1WW",
        "colab": {
          "base_uri": "https://localhost:8080/",
          "height": 136
        },
        "outputId": "0ea718b5-43dd-47af-b5d5-eb990c221856"
      },
      "source": [
        "# Call all models function for bow_df and display results\n",
        "bow_df_scores = all_models([bow_df, bow_df_pca_2, bow_df_pca_3, bow_df_pca_4, bow_df_pca_5, bow_df_pca_6, bow_df_pca_7],'sentiment')\n",
        "bow_df_scores"
      ],
      "execution_count": null,
      "outputs": [
        {
          "output_type": "execute_result",
          "data": {
            "text/html": [
              "<div>\n",
              "<style scoped>\n",
              "    .dataframe tbody tr th:only-of-type {\n",
              "        vertical-align: middle;\n",
              "    }\n",
              "\n",
              "    .dataframe tbody tr th {\n",
              "        vertical-align: top;\n",
              "    }\n",
              "\n",
              "    .dataframe thead th {\n",
              "        text-align: right;\n",
              "    }\n",
              "</style>\n",
              "<table border=\"1\" class=\"dataframe\">\n",
              "  <thead>\n",
              "    <tr style=\"text-align: right;\">\n",
              "      <th></th>\n",
              "      <th>bow_df</th>\n",
              "      <th>bow_df_pca_2</th>\n",
              "      <th>bow_df_pca_3</th>\n",
              "      <th>bow_df_pca_4</th>\n",
              "      <th>bow_df_pca_5</th>\n",
              "      <th>bow_df_pca_6</th>\n",
              "      <th>bow_df_pca_7</th>\n",
              "    </tr>\n",
              "  </thead>\n",
              "  <tbody>\n",
              "    <tr>\n",
              "      <th>lr</th>\n",
              "      <td>[0.68, 0.68]</td>\n",
              "      <td>[0.51, 0.52]</td>\n",
              "      <td>[0.53, 0.54]</td>\n",
              "      <td>[0.51, 0.53]</td>\n",
              "      <td>[0.51, 0.54]</td>\n",
              "      <td>[0.56, 0.56]</td>\n",
              "      <td>[0.52, 0.52]</td>\n",
              "    </tr>\n",
              "    <tr>\n",
              "      <th>rfc</th>\n",
              "      <td>[0.67, 0.68]</td>\n",
              "      <td>[0.53, 0.52]</td>\n",
              "      <td>[0.53, 0.53]</td>\n",
              "      <td>[0.54, 0.53]</td>\n",
              "      <td>[0.55, 0.55]</td>\n",
              "      <td>[0.58, 0.57]</td>\n",
              "      <td>[0.53, 0.54]</td>\n",
              "    </tr>\n",
              "    <tr>\n",
              "      <th>gbc</th>\n",
              "      <td>[0.65, 0.66]</td>\n",
              "      <td>[0.53, 0.52]</td>\n",
              "      <td>[0.53, 0.53]</td>\n",
              "      <td>[0.52, 0.53]</td>\n",
              "      <td>[0.53, 0.54]</td>\n",
              "      <td>[0.56, 0.56]</td>\n",
              "      <td>[0.52, 0.54]</td>\n",
              "    </tr>\n",
              "  </tbody>\n",
              "</table>\n",
              "</div>"
            ],
            "text/plain": [
              "           bow_df  bow_df_pca_2  ...  bow_df_pca_6  bow_df_pca_7\n",
              "lr   [0.68, 0.68]  [0.51, 0.52]  ...  [0.56, 0.56]  [0.52, 0.52]\n",
              "rfc  [0.67, 0.68]  [0.53, 0.52]  ...  [0.58, 0.57]  [0.53, 0.54]\n",
              "gbc  [0.65, 0.66]  [0.53, 0.52]  ...  [0.56, 0.56]  [0.52, 0.54]\n",
              "\n",
              "[3 rows x 7 columns]"
            ]
          },
          "metadata": {
            "tags": []
          },
          "execution_count": 21
        }
      ]
    },
    {
      "cell_type": "code",
      "metadata": {
        "id": "OPgFImO4NArx",
        "colab": {
          "base_uri": "https://localhost:8080/",
          "height": 136
        },
        "outputId": "83143cb4-d315-4a9c-87f7-ff3c5399507c"
      },
      "source": [
        "# Call all models function for tfidf_df and display results\n",
        "tfidf_df_scores = all_models([tfidf_df, tfidf_df_pca_2, tfidf_df_pca_3, tfidf_df_pca_4, tfidf_df_pca_5, tfidf_df_pca_6, tfidf_df_pca_7],'sentiment')\n",
        "tfidf_df_scores"
      ],
      "execution_count": null,
      "outputs": [
        {
          "output_type": "execute_result",
          "data": {
            "text/html": [
              "<div>\n",
              "<style scoped>\n",
              "    .dataframe tbody tr th:only-of-type {\n",
              "        vertical-align: middle;\n",
              "    }\n",
              "\n",
              "    .dataframe tbody tr th {\n",
              "        vertical-align: top;\n",
              "    }\n",
              "\n",
              "    .dataframe thead th {\n",
              "        text-align: right;\n",
              "    }\n",
              "</style>\n",
              "<table border=\"1\" class=\"dataframe\">\n",
              "  <thead>\n",
              "    <tr style=\"text-align: right;\">\n",
              "      <th></th>\n",
              "      <th>tfidf_df</th>\n",
              "      <th>tfidf_df_pca_2</th>\n",
              "      <th>tfidf_df_pca_3</th>\n",
              "      <th>tfidf_df_pca_4</th>\n",
              "      <th>tfidf_df_pca_5</th>\n",
              "      <th>tfidf_df_pca_6</th>\n",
              "      <th>tfidf_df_pca_7</th>\n",
              "    </tr>\n",
              "  </thead>\n",
              "  <tbody>\n",
              "    <tr>\n",
              "      <th>lr</th>\n",
              "      <td>[0.5, 0.51]</td>\n",
              "      <td>[0.48, 0.5]</td>\n",
              "      <td>[0.49, 0.5]</td>\n",
              "      <td>[0.49, 0.51]</td>\n",
              "      <td>[0.49, 0.5]</td>\n",
              "      <td>[0.48, 0.5]</td>\n",
              "      <td>[0.49, 0.51]</td>\n",
              "    </tr>\n",
              "    <tr>\n",
              "      <th>rfc</th>\n",
              "      <td>[0.5, 0.51]</td>\n",
              "      <td>[0.5, 0.52]</td>\n",
              "      <td>[0.5, 0.51]</td>\n",
              "      <td>[0.49, 0.51]</td>\n",
              "      <td>[0.5, 0.51]</td>\n",
              "      <td>[0.5, 0.51]</td>\n",
              "      <td>[0.5, 0.51]</td>\n",
              "    </tr>\n",
              "    <tr>\n",
              "      <th>gbc</th>\n",
              "      <td>[0.5, 0.51]</td>\n",
              "      <td>[0.5, 0.51]</td>\n",
              "      <td>[0.5, 0.51]</td>\n",
              "      <td>[0.49, 0.51]</td>\n",
              "      <td>[0.5, 0.51]</td>\n",
              "      <td>[0.49, 0.51]</td>\n",
              "      <td>[0.5, 0.51]</td>\n",
              "    </tr>\n",
              "  </tbody>\n",
              "</table>\n",
              "</div>"
            ],
            "text/plain": [
              "        tfidf_df tfidf_df_pca_2  ... tfidf_df_pca_6 tfidf_df_pca_7\n",
              "lr   [0.5, 0.51]    [0.48, 0.5]  ...    [0.48, 0.5]   [0.49, 0.51]\n",
              "rfc  [0.5, 0.51]    [0.5, 0.52]  ...    [0.5, 0.51]    [0.5, 0.51]\n",
              "gbc  [0.5, 0.51]    [0.5, 0.51]  ...   [0.49, 0.51]    [0.5, 0.51]\n",
              "\n",
              "[3 rows x 7 columns]"
            ]
          },
          "metadata": {
            "tags": []
          },
          "execution_count": 24
        }
      ]
    },
    {
      "cell_type": "code",
      "metadata": {
        "id": "VJRgd5GCNBt5",
        "colab": {
          "base_uri": "https://localhost:8080/",
          "height": 136
        },
        "outputId": "faeac24a-cc86-4da3-a53b-f14c2e6e87a5"
      },
      "source": [
        "# Call all models function for w2v_df and display results\n",
        "w2v_df_scores = all_models([w2v_df, w2v_df_pca_2, w2v_df_pca_3, w2v_df_pca_4, w2v_df_pca_5, w2v_df_pca_6, w2v_df_pca_7],'sentiment')\n",
        "w2v_df_scores"
      ],
      "execution_count": null,
      "outputs": [
        {
          "output_type": "execute_result",
          "data": {
            "text/html": [
              "<div>\n",
              "<style scoped>\n",
              "    .dataframe tbody tr th:only-of-type {\n",
              "        vertical-align: middle;\n",
              "    }\n",
              "\n",
              "    .dataframe tbody tr th {\n",
              "        vertical-align: top;\n",
              "    }\n",
              "\n",
              "    .dataframe thead th {\n",
              "        text-align: right;\n",
              "    }\n",
              "</style>\n",
              "<table border=\"1\" class=\"dataframe\">\n",
              "  <thead>\n",
              "    <tr style=\"text-align: right;\">\n",
              "      <th></th>\n",
              "      <th>w2v_df</th>\n",
              "      <th>w2v_df_pca_2</th>\n",
              "      <th>w2v_df_pca_3</th>\n",
              "      <th>w2v_df_pca_4</th>\n",
              "      <th>w2v_df_pca_5</th>\n",
              "      <th>w2v_df_pca_6</th>\n",
              "      <th>w2v_df_pca_7</th>\n",
              "    </tr>\n",
              "  </thead>\n",
              "  <tbody>\n",
              "    <tr>\n",
              "      <th>lr</th>\n",
              "      <td>[0.49, 0.5]</td>\n",
              "      <td>[0.48, 0.5]</td>\n",
              "      <td>[0.48, 0.5]</td>\n",
              "      <td>[0.48, 0.5]</td>\n",
              "      <td>[0.48, 0.5]</td>\n",
              "      <td>[0.48, 0.5]</td>\n",
              "      <td>[0.48, 0.5]</td>\n",
              "    </tr>\n",
              "    <tr>\n",
              "      <th>rfc</th>\n",
              "      <td>[0.49, 0.5]</td>\n",
              "      <td>[0.48, 0.5]</td>\n",
              "      <td>[0.48, 0.5]</td>\n",
              "      <td>[0.48, 0.5]</td>\n",
              "      <td>[0.48, 0.5]</td>\n",
              "      <td>[0.48, 0.5]</td>\n",
              "      <td>[0.48, 0.5]</td>\n",
              "    </tr>\n",
              "    <tr>\n",
              "      <th>gbc</th>\n",
              "      <td>[0.49, 0.5]</td>\n",
              "      <td>[0.48, 0.5]</td>\n",
              "      <td>[0.48, 0.5]</td>\n",
              "      <td>[0.48, 0.5]</td>\n",
              "      <td>[0.48, 0.5]</td>\n",
              "      <td>[0.48, 0.5]</td>\n",
              "      <td>[0.48, 0.5]</td>\n",
              "    </tr>\n",
              "  </tbody>\n",
              "</table>\n",
              "</div>"
            ],
            "text/plain": [
              "          w2v_df w2v_df_pca_2  ... w2v_df_pca_6 w2v_df_pca_7\n",
              "lr   [0.49, 0.5]  [0.48, 0.5]  ...  [0.48, 0.5]  [0.48, 0.5]\n",
              "rfc  [0.49, 0.5]  [0.48, 0.5]  ...  [0.48, 0.5]  [0.48, 0.5]\n",
              "gbc  [0.49, 0.5]  [0.48, 0.5]  ...  [0.48, 0.5]  [0.48, 0.5]\n",
              "\n",
              "[3 rows x 7 columns]"
            ]
          },
          "metadata": {
            "tags": []
          },
          "execution_count": 25
        }
      ]
    },
    {
      "cell_type": "code",
      "metadata": {
        "id": "suf4H6i_U2Bl",
        "colab": {
          "base_uri": "https://localhost:8080/",
          "height": 136
        },
        "outputId": "d3a9a339-dfc5-4bf0-8c3f-3e50920b5c19"
      },
      "source": [
        "# Call all models function for all_df and display results\n",
        "all_df_scores = all_models([all_df, all_df_pca_2, all_df_pca_3, all_df_pca_4, all_df_pca_5, all_df_pca_6, all_df_pca_7],'sentiment')\n",
        "all_df_scores"
      ],
      "execution_count": null,
      "outputs": [
        {
          "output_type": "execute_result",
          "data": {
            "text/html": [
              "<div>\n",
              "<style scoped>\n",
              "    .dataframe tbody tr th:only-of-type {\n",
              "        vertical-align: middle;\n",
              "    }\n",
              "\n",
              "    .dataframe tbody tr th {\n",
              "        vertical-align: top;\n",
              "    }\n",
              "\n",
              "    .dataframe thead th {\n",
              "        text-align: right;\n",
              "    }\n",
              "</style>\n",
              "<table border=\"1\" class=\"dataframe\">\n",
              "  <thead>\n",
              "    <tr style=\"text-align: right;\">\n",
              "      <th></th>\n",
              "      <th>all_df</th>\n",
              "      <th>all_df_pca_2</th>\n",
              "      <th>all_df_pca_3</th>\n",
              "      <th>all_df_pca_4</th>\n",
              "      <th>all_df_pca_5</th>\n",
              "      <th>all_df_pca_6</th>\n",
              "      <th>all_df_pca_7</th>\n",
              "    </tr>\n",
              "  </thead>\n",
              "  <tbody>\n",
              "    <tr>\n",
              "      <th>lr</th>\n",
              "      <td>[0.59, 0.57]</td>\n",
              "      <td>[0.5, 0.51]</td>\n",
              "      <td>[0.5, 0.5]</td>\n",
              "      <td>[0.49, 0.51]</td>\n",
              "      <td>[0.48, 0.5]</td>\n",
              "      <td>[0.49, 0.51]</td>\n",
              "      <td>[0.52, 0.5]</td>\n",
              "    </tr>\n",
              "    <tr>\n",
              "      <th>rfc</th>\n",
              "      <td>[0.57, 0.56]</td>\n",
              "      <td>[0.55, 0.55]</td>\n",
              "      <td>[0.55, 0.53]</td>\n",
              "      <td>[0.55, 0.54]</td>\n",
              "      <td>[0.56, 0.54]</td>\n",
              "      <td>[0.56, 0.56]</td>\n",
              "      <td>[0.53, 0.54]</td>\n",
              "    </tr>\n",
              "    <tr>\n",
              "      <th>gbc</th>\n",
              "      <td>[0.53, 0.53]</td>\n",
              "      <td>[0.49, 0.52]</td>\n",
              "      <td>[0.51, 0.52]</td>\n",
              "      <td>[0.51, 0.53]</td>\n",
              "      <td>[0.52, 0.52]</td>\n",
              "      <td>[0.51, 0.54]</td>\n",
              "      <td>[0.53, 0.51]</td>\n",
              "    </tr>\n",
              "  </tbody>\n",
              "</table>\n",
              "</div>"
            ],
            "text/plain": [
              "           all_df  all_df_pca_2  ...  all_df_pca_6  all_df_pca_7\n",
              "lr   [0.59, 0.57]   [0.5, 0.51]  ...  [0.49, 0.51]   [0.52, 0.5]\n",
              "rfc  [0.57, 0.56]  [0.55, 0.55]  ...  [0.56, 0.56]  [0.53, 0.54]\n",
              "gbc  [0.53, 0.53]  [0.49, 0.52]  ...  [0.51, 0.54]  [0.53, 0.51]\n",
              "\n",
              "[3 rows x 7 columns]"
            ]
          },
          "metadata": {
            "tags": []
          },
          "execution_count": 26
        }
      ]
    },
    {
      "cell_type": "markdown",
      "metadata": {
        "id": "oFWzp4_1ZBvk"
      },
      "source": [
        "None of the scores are particularly great. The highest score is the bag of words dataframe using the logistic regression model at .68, but ideally the score would be higher. It appears that PCA did not improve model performance."
      ]
    },
    {
      "cell_type": "markdown",
      "metadata": {
        "id": "XnezVuuLVFiO"
      },
      "source": [
        "I know that the sample size is quite small at 5000 but am limited by resources. I wonder if increasing the number of tweets has an impact on model performance to know if I should consider finding additional resources in order to run more tweets."
      ]
    },
    {
      "cell_type": "code",
      "metadata": {
        "id": "N74Il7SPLuv7"
      },
      "source": [
        "bow_df_1000 = get_sample(bow_df, 1000)\n",
        "bow_df_2500 = get_sample(bow_df, 2500)"
      ],
      "execution_count": null,
      "outputs": []
    },
    {
      "cell_type": "markdown",
      "metadata": {
        "id": "px1OfodIVrD5"
      },
      "source": [
        "Run PCA on the smaller bow_df's also"
      ]
    },
    {
      "cell_type": "code",
      "metadata": {
        "id": "DttKnK9XVMFh",
        "colab": {
          "base_uri": "https://localhost:8080/"
        },
        "outputId": "9c438936-0289-4581-8522-b98a52741554"
      },
      "source": [
        "list_of_all_df = pca_maker([bow_df_1000, bow_df_2500],'sentiment')\n",
        "list_of_all_df "
      ],
      "execution_count": null,
      "outputs": [
        {
          "output_type": "execute_result",
          "data": {
            "text/plain": [
              "['bow_df_1000',\n",
              " 'bow_df_1000_pca_2',\n",
              " 'bow_df_1000_pca_3',\n",
              " 'bow_df_1000_pca_4',\n",
              " 'bow_df_1000_pca_5',\n",
              " 'bow_df_1000_pca_6',\n",
              " 'bow_df_1000_pca_7',\n",
              " 'bow_df_2500',\n",
              " 'bow_df_2500_pca_2',\n",
              " 'bow_df_2500_pca_3',\n",
              " 'bow_df_2500_pca_4',\n",
              " 'bow_df_2500_pca_5',\n",
              " 'bow_df_2500_pca_6',\n",
              " 'bow_df_2500_pca_7']"
            ]
          },
          "metadata": {
            "tags": []
          },
          "execution_count": 38
        }
      ]
    },
    {
      "cell_type": "code",
      "metadata": {
        "id": "hVS2USlWVUXG",
        "colab": {
          "base_uri": "https://localhost:8080/",
          "height": 142
        },
        "outputId": "01df1d60-a958-4aa1-e87b-78dc69fa1f6d"
      },
      "source": [
        "bow_df_scores"
      ],
      "execution_count": null,
      "outputs": [
        {
          "output_type": "execute_result",
          "data": {
            "text/html": [
              "<div>\n",
              "<style scoped>\n",
              "    .dataframe tbody tr th:only-of-type {\n",
              "        vertical-align: middle;\n",
              "    }\n",
              "\n",
              "    .dataframe tbody tr th {\n",
              "        vertical-align: top;\n",
              "    }\n",
              "\n",
              "    .dataframe thead th {\n",
              "        text-align: right;\n",
              "    }\n",
              "</style>\n",
              "<table border=\"1\" class=\"dataframe\">\n",
              "  <thead>\n",
              "    <tr style=\"text-align: right;\">\n",
              "      <th></th>\n",
              "      <th>bow_df</th>\n",
              "      <th>bow_df_pca_2</th>\n",
              "      <th>bow_df_pca_3</th>\n",
              "      <th>bow_df_pca_4</th>\n",
              "      <th>bow_df_pca_5</th>\n",
              "      <th>bow_df_pca_6</th>\n",
              "      <th>bow_df_pca_7</th>\n",
              "    </tr>\n",
              "  </thead>\n",
              "  <tbody>\n",
              "    <tr>\n",
              "      <th>lr</th>\n",
              "      <td>[0.68, 0.68]</td>\n",
              "      <td>[0.51, 0.52]</td>\n",
              "      <td>[0.53, 0.54]</td>\n",
              "      <td>[0.51, 0.53]</td>\n",
              "      <td>[0.51, 0.54]</td>\n",
              "      <td>[0.56, 0.56]</td>\n",
              "      <td>[0.52, 0.52]</td>\n",
              "    </tr>\n",
              "    <tr>\n",
              "      <th>rfc</th>\n",
              "      <td>[0.67, 0.68]</td>\n",
              "      <td>[0.53, 0.52]</td>\n",
              "      <td>[0.53, 0.53]</td>\n",
              "      <td>[0.54, 0.53]</td>\n",
              "      <td>[0.55, 0.55]</td>\n",
              "      <td>[0.58, 0.57]</td>\n",
              "      <td>[0.53, 0.54]</td>\n",
              "    </tr>\n",
              "    <tr>\n",
              "      <th>gbc</th>\n",
              "      <td>[0.65, 0.66]</td>\n",
              "      <td>[0.53, 0.52]</td>\n",
              "      <td>[0.53, 0.53]</td>\n",
              "      <td>[0.52, 0.53]</td>\n",
              "      <td>[0.53, 0.54]</td>\n",
              "      <td>[0.56, 0.56]</td>\n",
              "      <td>[0.52, 0.54]</td>\n",
              "    </tr>\n",
              "  </tbody>\n",
              "</table>\n",
              "</div>"
            ],
            "text/plain": [
              "           bow_df  bow_df_pca_2  ...  bow_df_pca_6  bow_df_pca_7\n",
              "lr   [0.68, 0.68]  [0.51, 0.52]  ...  [0.56, 0.56]  [0.52, 0.52]\n",
              "rfc  [0.67, 0.68]  [0.53, 0.52]  ...  [0.58, 0.57]  [0.53, 0.54]\n",
              "gbc  [0.65, 0.66]  [0.53, 0.52]  ...  [0.56, 0.56]  [0.52, 0.54]\n",
              "\n",
              "[3 rows x 7 columns]"
            ]
          },
          "metadata": {
            "tags": []
          },
          "execution_count": 19
        }
      ]
    },
    {
      "cell_type": "code",
      "metadata": {
        "id": "GSZiv74QMK12",
        "colab": {
          "base_uri": "https://localhost:8080/",
          "height": 142
        },
        "outputId": "6c5c66c7-6d54-4461-bd6e-0df29d4dbc6a"
      },
      "source": [
        "# Call all models function for bow_df and display results\n",
        "bow_df_1000_scores = all_models([bow_df_1000, bow_df_1000_pca_2, bow_df_1000_pca_3, bow_df_1000_pca_4, bow_df_1000_pca_5, bow_df_1000_pca_6, bow_df_1000_pca_7],'sentiment')\n",
        "bow_df_1000_scores"
      ],
      "execution_count": null,
      "outputs": [
        {
          "output_type": "execute_result",
          "data": {
            "text/html": [
              "<div>\n",
              "<style scoped>\n",
              "    .dataframe tbody tr th:only-of-type {\n",
              "        vertical-align: middle;\n",
              "    }\n",
              "\n",
              "    .dataframe tbody tr th {\n",
              "        vertical-align: top;\n",
              "    }\n",
              "\n",
              "    .dataframe thead th {\n",
              "        text-align: right;\n",
              "    }\n",
              "</style>\n",
              "<table border=\"1\" class=\"dataframe\">\n",
              "  <thead>\n",
              "    <tr style=\"text-align: right;\">\n",
              "      <th></th>\n",
              "      <th>bow_df_1000</th>\n",
              "      <th>bow_df_1000_pca_2</th>\n",
              "      <th>bow_df_1000_pca_3</th>\n",
              "      <th>bow_df_1000_pca_4</th>\n",
              "      <th>bow_df_1000_pca_5</th>\n",
              "      <th>bow_df_1000_pca_6</th>\n",
              "      <th>bow_df_1000_pca_7</th>\n",
              "    </tr>\n",
              "  </thead>\n",
              "  <tbody>\n",
              "    <tr>\n",
              "      <th>lr</th>\n",
              "      <td>[0.61, 0.64]</td>\n",
              "      <td>[0.51, 0.53]</td>\n",
              "      <td>[0.54, 0.52]</td>\n",
              "      <td>[0.47, 0.51]</td>\n",
              "      <td>[0.51, 0.54]</td>\n",
              "      <td>[0.52, 0.52]</td>\n",
              "      <td>[0.52, 0.52]</td>\n",
              "    </tr>\n",
              "    <tr>\n",
              "      <th>rfc</th>\n",
              "      <td>[0.6, 0.62]</td>\n",
              "      <td>[0.51, 0.52]</td>\n",
              "      <td>[0.47, 0.48]</td>\n",
              "      <td>[0.52, 0.51]</td>\n",
              "      <td>[0.48, 0.54]</td>\n",
              "      <td>[0.54, 0.52]</td>\n",
              "      <td>[0.5, 0.5]</td>\n",
              "    </tr>\n",
              "    <tr>\n",
              "      <th>gbc</th>\n",
              "      <td>[0.59, 0.62]</td>\n",
              "      <td>[0.54, 0.54]</td>\n",
              "      <td>[0.5, 0.48]</td>\n",
              "      <td>[0.52, 0.48]</td>\n",
              "      <td>[0.55, 0.55]</td>\n",
              "      <td>[0.53, 0.52]</td>\n",
              "      <td>[0.5, 0.5]</td>\n",
              "    </tr>\n",
              "  </tbody>\n",
              "</table>\n",
              "</div>"
            ],
            "text/plain": [
              "      bow_df_1000 bow_df_1000_pca_2  ... bow_df_1000_pca_6 bow_df_1000_pca_7\n",
              "lr   [0.61, 0.64]      [0.51, 0.53]  ...      [0.52, 0.52]      [0.52, 0.52]\n",
              "rfc   [0.6, 0.62]      [0.51, 0.52]  ...      [0.54, 0.52]        [0.5, 0.5]\n",
              "gbc  [0.59, 0.62]      [0.54, 0.54]  ...      [0.53, 0.52]        [0.5, 0.5]\n",
              "\n",
              "[3 rows x 7 columns]"
            ]
          },
          "metadata": {
            "tags": []
          },
          "execution_count": 40
        }
      ]
    },
    {
      "cell_type": "code",
      "metadata": {
        "id": "evV1_sFZMLFC",
        "colab": {
          "base_uri": "https://localhost:8080/",
          "height": 142
        },
        "outputId": "0442b7f2-c85b-4a79-fe22-a8632af85b2e"
      },
      "source": [
        "# Call all models function for bow_df and display results\n",
        "bow_df_2500_scores = all_models([bow_df_2500, bow_df_2500_pca_2, bow_df_2500_pca_3, bow_df_2500_pca_4, bow_df_2500_pca_5, bow_df_2500_pca_6, bow_df_2500_pca_7],'sentiment')\n",
        "bow_df_2500_scores"
      ],
      "execution_count": null,
      "outputs": [
        {
          "output_type": "execute_result",
          "data": {
            "text/html": [
              "<div>\n",
              "<style scoped>\n",
              "    .dataframe tbody tr th:only-of-type {\n",
              "        vertical-align: middle;\n",
              "    }\n",
              "\n",
              "    .dataframe tbody tr th {\n",
              "        vertical-align: top;\n",
              "    }\n",
              "\n",
              "    .dataframe thead th {\n",
              "        text-align: right;\n",
              "    }\n",
              "</style>\n",
              "<table border=\"1\" class=\"dataframe\">\n",
              "  <thead>\n",
              "    <tr style=\"text-align: right;\">\n",
              "      <th></th>\n",
              "      <th>bow_df_2500</th>\n",
              "      <th>bow_df_2500_pca_2</th>\n",
              "      <th>bow_df_2500_pca_3</th>\n",
              "      <th>bow_df_2500_pca_4</th>\n",
              "      <th>bow_df_2500_pca_5</th>\n",
              "      <th>bow_df_2500_pca_6</th>\n",
              "      <th>bow_df_2500_pca_7</th>\n",
              "    </tr>\n",
              "  </thead>\n",
              "  <tbody>\n",
              "    <tr>\n",
              "      <th>lr</th>\n",
              "      <td>[0.67, 0.68]</td>\n",
              "      <td>[0.51, 0.52]</td>\n",
              "      <td>[0.5, 0.54]</td>\n",
              "      <td>[0.54, 0.55]</td>\n",
              "      <td>[0.51, 0.54]</td>\n",
              "      <td>[0.56, 0.56]</td>\n",
              "      <td>[0.53, 0.56]</td>\n",
              "    </tr>\n",
              "    <tr>\n",
              "      <th>rfc</th>\n",
              "      <td>[0.67, 0.66]</td>\n",
              "      <td>[0.52, 0.52]</td>\n",
              "      <td>[0.55, 0.53]</td>\n",
              "      <td>[0.55, 0.54]</td>\n",
              "      <td>[0.55, 0.53]</td>\n",
              "      <td>[0.56, 0.53]</td>\n",
              "      <td>[0.57, 0.55]</td>\n",
              "    </tr>\n",
              "    <tr>\n",
              "      <th>gbc</th>\n",
              "      <td>[0.63, 0.64]</td>\n",
              "      <td>[0.52, 0.52]</td>\n",
              "      <td>[0.55, 0.53]</td>\n",
              "      <td>[0.55, 0.55]</td>\n",
              "      <td>[0.53, 0.53]</td>\n",
              "      <td>[0.55, 0.55]</td>\n",
              "      <td>[0.57, 0.57]</td>\n",
              "    </tr>\n",
              "  </tbody>\n",
              "</table>\n",
              "</div>"
            ],
            "text/plain": [
              "      bow_df_2500 bow_df_2500_pca_2  ... bow_df_2500_pca_6 bow_df_2500_pca_7\n",
              "lr   [0.67, 0.68]      [0.51, 0.52]  ...      [0.56, 0.56]      [0.53, 0.56]\n",
              "rfc  [0.67, 0.66]      [0.52, 0.52]  ...      [0.56, 0.53]      [0.57, 0.55]\n",
              "gbc  [0.63, 0.64]      [0.52, 0.52]  ...      [0.55, 0.55]      [0.57, 0.57]\n",
              "\n",
              "[3 rows x 7 columns]"
            ]
          },
          "metadata": {
            "tags": []
          },
          "execution_count": 39
        }
      ]
    },
    {
      "cell_type": "markdown",
      "metadata": {
        "id": "dz8xW_0TZngT"
      },
      "source": [
        "Looking at the scores, it does look like the larger set has better performance than the smaller two."
      ]
    },
    {
      "cell_type": "code",
      "metadata": {
        "id": "RxsB5SQn5X4P"
      },
      "source": [
        "# Take the score data frames and save them as pickle files\n",
        "dump_scores = ['bow_df_1000_scores', 'bow_df_2500_scores', 'bow_df_scores','tfidf_df_scores','w2v_df_scores','all_df_scores']\n",
        "super_dump(dump_scores)"
      ],
      "execution_count": null,
      "outputs": []
    },
    {
      "cell_type": "markdown",
      "metadata": {
        "id": "OQ9QqOqxZ1Dg"
      },
      "source": [
        "# 6. Conclusion"
      ]
    },
    {
      "cell_type": "markdown",
      "metadata": {
        "id": "LlRGMJaNav7p"
      },
      "source": [
        "None of the models did amazingly well. Because of limited RAM resources, I was forced to only use 5000 of the 1.6 million tweets. This is a lot less that I would prefer to use.\n",
        "\n",
        "Next steps to increase sample size:\n",
        "1. Create a vectorizer for BOW\n",
        "2. Find a machine with more RAM\n",
        "\n",
        "If this doesn't increase model performance, I would look for more advanced sentiment predicting models. "
      ]
    }
  ]
}