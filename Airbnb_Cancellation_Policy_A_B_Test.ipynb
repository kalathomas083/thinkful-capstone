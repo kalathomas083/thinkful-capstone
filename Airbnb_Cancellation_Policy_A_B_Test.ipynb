{
  "nbformat": 4,
  "nbformat_minor": 0,
  "metadata": {
    "colab": {
      "name": "Airbnb Cancellation Policy A/B Test.ipynb",
      "provenance": [],
      "include_colab_link": true
    },
    "kernelspec": {
      "name": "python3",
      "display_name": "Python 3"
    }
  },
  "cells": [
    {
      "cell_type": "markdown",
      "metadata": {
        "id": "view-in-github",
        "colab_type": "text"
      },
      "source": [
        "<a href=\"https://colab.research.google.com/github/kalathomas083/thinkful-capstone/blob/master/Airbnb_Cancellation_Policy_A_B_Test.ipynb\" target=\"_parent\"><img src=\"https://colab.research.google.com/assets/colab-badge.svg\" alt=\"Open In Colab\"/></a>"
      ]
    },
    {
      "cell_type": "markdown",
      "metadata": {
        "id": "KvHAvpclVoGy",
        "colab_type": "text"
      },
      "source": [
        "# 1. Introduction\n",
        "\n",
        "Vacation rentals have become a booming business in the internet age. It's also a strong source of income for those who own a second home or want to rent out the extra space in their primary homes to short-term renters.\n",
        "\n",
        "Because the vacation rental industry is relatively new, there are still many questions left unanswered about how to make the most money."
      ]
    },
    {
      "cell_type": "markdown",
      "metadata": {
        "id": "QqW-YFmiEKF4",
        "colab_type": "text"
      },
      "source": [
        "# 2. Hypothesis\n",
        "\n",
        "Ho: There is no significant difference between the average nightly rates of properties with stricter cancellation policies than those with more relaxed cancellation policies.\n",
        "\n",
        "Ha: There is a significant difference between the average nightly rates of properties with stricter cancellation policies than those with more relaxed cancellation policies."
      ]
    },
    {
      "cell_type": "markdown",
      "metadata": {
        "id": "Ly8gnyHlEsFQ",
        "colab_type": "text"
      },
      "source": [
        "# 3. Data\n",
        "The data set comes from Kaggle and contains 3818 listing records with 91 different data points. All of the listings are located in Seattle, WA\n",
        "\n",
        "https://www.kaggle.com/airbnb/seattle?select=listings.csv"
      ]
    },
    {
      "cell_type": "markdown",
      "metadata": {
        "id": "89B218A6WoFo",
        "colab_type": "text"
      },
      "source": [
        "## Set up the data"
      ]
    },
    {
      "cell_type": "code",
      "metadata": {
        "id": "oAOTJzy954q7",
        "colab_type": "code",
        "colab": {}
      },
      "source": [
        "## set up environment\n",
        "import pandas as pd\n",
        "import numpy as np\n",
        "import matplotlib.pyplot as plt\n",
        "from scipy import stats\n",
        "%matplotlib inline"
      ],
      "execution_count": null,
      "outputs": []
    },
    {
      "cell_type": "code",
      "metadata": {
        "id": "iu55cw8z7fdO",
        "colab_type": "code",
        "colab": {
          "base_uri": "https://localhost:8080/"
        },
        "outputId": "92a9488e-99d5-4bbe-d70a-578c295dbdb6"
      },
      "source": [
        "# load data\n",
        "listing_df = pd.read_csv('/content/drive/My Drive/Thinkful/Homework Assignments/Capstone 1 Experimental Design/Raw Data/listings.csv')\n",
        "\n",
        "# inspect data\n",
        "listing_df.info()\n",
        "listing_df.head()"
      ],
      "execution_count": null,
      "outputs": [
        {
          "output_type": "stream",
          "text": [
            "<class 'pandas.core.frame.DataFrame'>\n",
            "RangeIndex: 3818 entries, 0 to 3817\n",
            "Data columns (total 92 columns):\n",
            " #   Column                            Non-Null Count  Dtype  \n",
            "---  ------                            --------------  -----  \n",
            " 0   id                                3818 non-null   int64  \n",
            " 1   listing_url                       3818 non-null   object \n",
            " 2   scrape_id                         3818 non-null   int64  \n",
            " 3   last_scraped                      3818 non-null   object \n",
            " 4   name                              3818 non-null   object \n",
            " 5   summary                           3641 non-null   object \n",
            " 6   space                             3249 non-null   object \n",
            " 7   description                       3818 non-null   object \n",
            " 8   experiences_offered               3818 non-null   object \n",
            " 9   neighborhood_overview             2786 non-null   object \n",
            " 10  notes                             2212 non-null   object \n",
            " 11  transit                           2884 non-null   object \n",
            " 12  thumbnail_url                     3498 non-null   object \n",
            " 13  medium_url                        3498 non-null   object \n",
            " 14  picture_url                       3818 non-null   object \n",
            " 15  xl_picture_url                    3498 non-null   object \n",
            " 16  host_id                           3818 non-null   int64  \n",
            " 17  host_url                          3818 non-null   object \n",
            " 18  host_name                         3816 non-null   object \n",
            " 19  host_since                        3816 non-null   object \n",
            " 20  host_location                     3810 non-null   object \n",
            " 21  host_about                        2959 non-null   object \n",
            " 22  host_response_time                3295 non-null   object \n",
            " 23  host_response_rate                3295 non-null   object \n",
            " 24  host_acceptance_rate              3045 non-null   object \n",
            " 25  host_is_superhost                 3816 non-null   object \n",
            " 26  host_thumbnail_url                3816 non-null   object \n",
            " 27  host_picture_url                  3816 non-null   object \n",
            " 28  host_neighbourhood                3518 non-null   object \n",
            " 29  host_listings_count               3816 non-null   float64\n",
            " 30  host_total_listings_count         3816 non-null   float64\n",
            " 31  host_verifications                3818 non-null   object \n",
            " 32  host_has_profile_pic              3816 non-null   object \n",
            " 33  host_identity_verified            3816 non-null   object \n",
            " 34  street                            3818 non-null   object \n",
            " 35  neighbourhood                     3402 non-null   object \n",
            " 36  neighbourhood_cleansed            3818 non-null   object \n",
            " 37  neighbourhood_group_cleansed      3818 non-null   object \n",
            " 38  city                              3818 non-null   object \n",
            " 39  state                             3818 non-null   object \n",
            " 40  zipcode                           3811 non-null   object \n",
            " 41  market                            3818 non-null   object \n",
            " 42  smart_location                    3818 non-null   object \n",
            " 43  country_code                      3818 non-null   object \n",
            " 44  country                           3818 non-null   object \n",
            " 45  latitude                          3818 non-null   float64\n",
            " 46  longitude                         3818 non-null   float64\n",
            " 47  is_location_exact                 3818 non-null   object \n",
            " 48  property_type                     3817 non-null   object \n",
            " 49  room_type                         3818 non-null   object \n",
            " 50  accommodates                      3818 non-null   int64  \n",
            " 51  bathrooms                         3802 non-null   float64\n",
            " 52  bedrooms                          3812 non-null   float64\n",
            " 53  beds                              3817 non-null   float64\n",
            " 54  bed_type                          3818 non-null   object \n",
            " 55  amenities                         3818 non-null   object \n",
            " 56  square_feet                       97 non-null     float64\n",
            " 57  price                             3818 non-null   object \n",
            " 58  weekly_price                      2009 non-null   object \n",
            " 59  monthly_price                     1517 non-null   object \n",
            " 60  security_deposit                  1866 non-null   object \n",
            " 61  cleaning_fee                      2788 non-null   object \n",
            " 62  guests_included                   3818 non-null   int64  \n",
            " 63  extra_people                      3818 non-null   object \n",
            " 64  minimum_nights                    3818 non-null   int64  \n",
            " 65  maximum_nights                    3818 non-null   int64  \n",
            " 66  calendar_updated                  3818 non-null   object \n",
            " 67  has_availability                  3818 non-null   object \n",
            " 68  availability_30                   3818 non-null   int64  \n",
            " 69  availability_60                   3818 non-null   int64  \n",
            " 70  availability_90                   3818 non-null   int64  \n",
            " 71  availability_365                  3818 non-null   int64  \n",
            " 72  calendar_last_scraped             3818 non-null   object \n",
            " 73  number_of_reviews                 3818 non-null   int64  \n",
            " 74  first_review                      3191 non-null   object \n",
            " 75  last_review                       3191 non-null   object \n",
            " 76  review_scores_rating              3171 non-null   float64\n",
            " 77  review_scores_accuracy            3160 non-null   float64\n",
            " 78  review_scores_cleanliness         3165 non-null   float64\n",
            " 79  review_scores_checkin             3160 non-null   float64\n",
            " 80  review_scores_communication       3167 non-null   float64\n",
            " 81  review_scores_location            3163 non-null   float64\n",
            " 82  review_scores_value               3162 non-null   float64\n",
            " 83  requires_license                  3818 non-null   object \n",
            " 84  license                           0 non-null      float64\n",
            " 85  jurisdiction_names                3818 non-null   object \n",
            " 86  instant_bookable                  3818 non-null   object \n",
            " 87  cancellation_policy               3818 non-null   object \n",
            " 88  require_guest_profile_picture     3818 non-null   object \n",
            " 89  require_guest_phone_verification  3818 non-null   object \n",
            " 90  calculated_host_listings_count    3818 non-null   int64  \n",
            " 91  reviews_per_month                 3191 non-null   float64\n",
            "dtypes: float64(17), int64(13), object(62)\n",
            "memory usage: 2.7+ MB\n"
          ],
          "name": "stdout"
        },
        {
          "output_type": "execute_result",
          "data": {
            "text/html": [
              "<div>\n",
              "<style scoped>\n",
              "    .dataframe tbody tr th:only-of-type {\n",
              "        vertical-align: middle;\n",
              "    }\n",
              "\n",
              "    .dataframe tbody tr th {\n",
              "        vertical-align: top;\n",
              "    }\n",
              "\n",
              "    .dataframe thead th {\n",
              "        text-align: right;\n",
              "    }\n",
              "</style>\n",
              "<table border=\"1\" class=\"dataframe\">\n",
              "  <thead>\n",
              "    <tr style=\"text-align: right;\">\n",
              "      <th></th>\n",
              "      <th>id</th>\n",
              "      <th>listing_url</th>\n",
              "      <th>scrape_id</th>\n",
              "      <th>last_scraped</th>\n",
              "      <th>name</th>\n",
              "      <th>summary</th>\n",
              "      <th>space</th>\n",
              "      <th>description</th>\n",
              "      <th>experiences_offered</th>\n",
              "      <th>neighborhood_overview</th>\n",
              "      <th>notes</th>\n",
              "      <th>transit</th>\n",
              "      <th>thumbnail_url</th>\n",
              "      <th>medium_url</th>\n",
              "      <th>picture_url</th>\n",
              "      <th>xl_picture_url</th>\n",
              "      <th>host_id</th>\n",
              "      <th>host_url</th>\n",
              "      <th>host_name</th>\n",
              "      <th>host_since</th>\n",
              "      <th>host_location</th>\n",
              "      <th>host_about</th>\n",
              "      <th>host_response_time</th>\n",
              "      <th>host_response_rate</th>\n",
              "      <th>host_acceptance_rate</th>\n",
              "      <th>host_is_superhost</th>\n",
              "      <th>host_thumbnail_url</th>\n",
              "      <th>host_picture_url</th>\n",
              "      <th>host_neighbourhood</th>\n",
              "      <th>host_listings_count</th>\n",
              "      <th>host_total_listings_count</th>\n",
              "      <th>host_verifications</th>\n",
              "      <th>host_has_profile_pic</th>\n",
              "      <th>host_identity_verified</th>\n",
              "      <th>street</th>\n",
              "      <th>neighbourhood</th>\n",
              "      <th>neighbourhood_cleansed</th>\n",
              "      <th>neighbourhood_group_cleansed</th>\n",
              "      <th>city</th>\n",
              "      <th>state</th>\n",
              "      <th>...</th>\n",
              "      <th>bedrooms</th>\n",
              "      <th>beds</th>\n",
              "      <th>bed_type</th>\n",
              "      <th>amenities</th>\n",
              "      <th>square_feet</th>\n",
              "      <th>price</th>\n",
              "      <th>weekly_price</th>\n",
              "      <th>monthly_price</th>\n",
              "      <th>security_deposit</th>\n",
              "      <th>cleaning_fee</th>\n",
              "      <th>guests_included</th>\n",
              "      <th>extra_people</th>\n",
              "      <th>minimum_nights</th>\n",
              "      <th>maximum_nights</th>\n",
              "      <th>calendar_updated</th>\n",
              "      <th>has_availability</th>\n",
              "      <th>availability_30</th>\n",
              "      <th>availability_60</th>\n",
              "      <th>availability_90</th>\n",
              "      <th>availability_365</th>\n",
              "      <th>calendar_last_scraped</th>\n",
              "      <th>number_of_reviews</th>\n",
              "      <th>first_review</th>\n",
              "      <th>last_review</th>\n",
              "      <th>review_scores_rating</th>\n",
              "      <th>review_scores_accuracy</th>\n",
              "      <th>review_scores_cleanliness</th>\n",
              "      <th>review_scores_checkin</th>\n",
              "      <th>review_scores_communication</th>\n",
              "      <th>review_scores_location</th>\n",
              "      <th>review_scores_value</th>\n",
              "      <th>requires_license</th>\n",
              "      <th>license</th>\n",
              "      <th>jurisdiction_names</th>\n",
              "      <th>instant_bookable</th>\n",
              "      <th>cancellation_policy</th>\n",
              "      <th>require_guest_profile_picture</th>\n",
              "      <th>require_guest_phone_verification</th>\n",
              "      <th>calculated_host_listings_count</th>\n",
              "      <th>reviews_per_month</th>\n",
              "    </tr>\n",
              "  </thead>\n",
              "  <tbody>\n",
              "    <tr>\n",
              "      <th>0</th>\n",
              "      <td>241032</td>\n",
              "      <td>https://www.airbnb.com/rooms/241032</td>\n",
              "      <td>20160104002432</td>\n",
              "      <td>2016-01-04</td>\n",
              "      <td>Stylish Queen Anne Apartment</td>\n",
              "      <td>NaN</td>\n",
              "      <td>Make your self at home in this charming one-be...</td>\n",
              "      <td>Make your self at home in this charming one-be...</td>\n",
              "      <td>none</td>\n",
              "      <td>NaN</td>\n",
              "      <td>NaN</td>\n",
              "      <td>NaN</td>\n",
              "      <td>NaN</td>\n",
              "      <td>NaN</td>\n",
              "      <td>https://a1.muscache.com/ac/pictures/67560560/c...</td>\n",
              "      <td>NaN</td>\n",
              "      <td>956883</td>\n",
              "      <td>https://www.airbnb.com/users/show/956883</td>\n",
              "      <td>Maija</td>\n",
              "      <td>2011-08-11</td>\n",
              "      <td>Seattle, Washington, United States</td>\n",
              "      <td>I am an artist, interior designer, and run a s...</td>\n",
              "      <td>within a few hours</td>\n",
              "      <td>96%</td>\n",
              "      <td>100%</td>\n",
              "      <td>f</td>\n",
              "      <td>https://a0.muscache.com/ac/users/956883/profil...</td>\n",
              "      <td>https://a0.muscache.com/ac/users/956883/profil...</td>\n",
              "      <td>Queen Anne</td>\n",
              "      <td>3.0</td>\n",
              "      <td>3.0</td>\n",
              "      <td>['email', 'phone', 'reviews', 'kba']</td>\n",
              "      <td>t</td>\n",
              "      <td>t</td>\n",
              "      <td>Gilman Dr W, Seattle, WA 98119, United States</td>\n",
              "      <td>Queen Anne</td>\n",
              "      <td>West Queen Anne</td>\n",
              "      <td>Queen Anne</td>\n",
              "      <td>Seattle</td>\n",
              "      <td>WA</td>\n",
              "      <td>...</td>\n",
              "      <td>1.0</td>\n",
              "      <td>1.0</td>\n",
              "      <td>Real Bed</td>\n",
              "      <td>{TV,\"Cable TV\",Internet,\"Wireless Internet\",\"A...</td>\n",
              "      <td>NaN</td>\n",
              "      <td>$85.00</td>\n",
              "      <td>NaN</td>\n",
              "      <td>NaN</td>\n",
              "      <td>NaN</td>\n",
              "      <td>NaN</td>\n",
              "      <td>2</td>\n",
              "      <td>$5.00</td>\n",
              "      <td>1</td>\n",
              "      <td>365</td>\n",
              "      <td>4 weeks ago</td>\n",
              "      <td>t</td>\n",
              "      <td>14</td>\n",
              "      <td>41</td>\n",
              "      <td>71</td>\n",
              "      <td>346</td>\n",
              "      <td>2016-01-04</td>\n",
              "      <td>207</td>\n",
              "      <td>2011-11-01</td>\n",
              "      <td>2016-01-02</td>\n",
              "      <td>95.0</td>\n",
              "      <td>10.0</td>\n",
              "      <td>10.0</td>\n",
              "      <td>10.0</td>\n",
              "      <td>10.0</td>\n",
              "      <td>9.0</td>\n",
              "      <td>10.0</td>\n",
              "      <td>f</td>\n",
              "      <td>NaN</td>\n",
              "      <td>WASHINGTON</td>\n",
              "      <td>f</td>\n",
              "      <td>moderate</td>\n",
              "      <td>f</td>\n",
              "      <td>f</td>\n",
              "      <td>2</td>\n",
              "      <td>4.07</td>\n",
              "    </tr>\n",
              "    <tr>\n",
              "      <th>1</th>\n",
              "      <td>953595</td>\n",
              "      <td>https://www.airbnb.com/rooms/953595</td>\n",
              "      <td>20160104002432</td>\n",
              "      <td>2016-01-04</td>\n",
              "      <td>Bright &amp; Airy Queen Anne Apartment</td>\n",
              "      <td>Chemically sensitive? We've removed the irrita...</td>\n",
              "      <td>Beautiful, hypoallergenic apartment in an extr...</td>\n",
              "      <td>Chemically sensitive? We've removed the irrita...</td>\n",
              "      <td>none</td>\n",
              "      <td>Queen Anne is a wonderful, truly functional vi...</td>\n",
              "      <td>What's up with the free pillows?  Our home was...</td>\n",
              "      <td>Convenient bus stops are just down the block, ...</td>\n",
              "      <td>https://a0.muscache.com/ac/pictures/14409893/f...</td>\n",
              "      <td>https://a0.muscache.com/im/pictures/14409893/f...</td>\n",
              "      <td>https://a0.muscache.com/ac/pictures/14409893/f...</td>\n",
              "      <td>https://a0.muscache.com/ac/pictures/14409893/f...</td>\n",
              "      <td>5177328</td>\n",
              "      <td>https://www.airbnb.com/users/show/5177328</td>\n",
              "      <td>Andrea</td>\n",
              "      <td>2013-02-21</td>\n",
              "      <td>Seattle, Washington, United States</td>\n",
              "      <td>Living east coast/left coast/overseas.  Time i...</td>\n",
              "      <td>within an hour</td>\n",
              "      <td>98%</td>\n",
              "      <td>100%</td>\n",
              "      <td>t</td>\n",
              "      <td>https://a0.muscache.com/ac/users/5177328/profi...</td>\n",
              "      <td>https://a0.muscache.com/ac/users/5177328/profi...</td>\n",
              "      <td>Queen Anne</td>\n",
              "      <td>6.0</td>\n",
              "      <td>6.0</td>\n",
              "      <td>['email', 'phone', 'facebook', 'linkedin', 're...</td>\n",
              "      <td>t</td>\n",
              "      <td>t</td>\n",
              "      <td>7th Avenue West, Seattle, WA 98119, United States</td>\n",
              "      <td>Queen Anne</td>\n",
              "      <td>West Queen Anne</td>\n",
              "      <td>Queen Anne</td>\n",
              "      <td>Seattle</td>\n",
              "      <td>WA</td>\n",
              "      <td>...</td>\n",
              "      <td>1.0</td>\n",
              "      <td>1.0</td>\n",
              "      <td>Real Bed</td>\n",
              "      <td>{TV,Internet,\"Wireless Internet\",Kitchen,\"Free...</td>\n",
              "      <td>NaN</td>\n",
              "      <td>$150.00</td>\n",
              "      <td>$1,000.00</td>\n",
              "      <td>$3,000.00</td>\n",
              "      <td>$100.00</td>\n",
              "      <td>$40.00</td>\n",
              "      <td>1</td>\n",
              "      <td>$0.00</td>\n",
              "      <td>2</td>\n",
              "      <td>90</td>\n",
              "      <td>today</td>\n",
              "      <td>t</td>\n",
              "      <td>13</td>\n",
              "      <td>13</td>\n",
              "      <td>16</td>\n",
              "      <td>291</td>\n",
              "      <td>2016-01-04</td>\n",
              "      <td>43</td>\n",
              "      <td>2013-08-19</td>\n",
              "      <td>2015-12-29</td>\n",
              "      <td>96.0</td>\n",
              "      <td>10.0</td>\n",
              "      <td>10.0</td>\n",
              "      <td>10.0</td>\n",
              "      <td>10.0</td>\n",
              "      <td>10.0</td>\n",
              "      <td>10.0</td>\n",
              "      <td>f</td>\n",
              "      <td>NaN</td>\n",
              "      <td>WASHINGTON</td>\n",
              "      <td>f</td>\n",
              "      <td>strict</td>\n",
              "      <td>t</td>\n",
              "      <td>t</td>\n",
              "      <td>6</td>\n",
              "      <td>1.48</td>\n",
              "    </tr>\n",
              "    <tr>\n",
              "      <th>2</th>\n",
              "      <td>3308979</td>\n",
              "      <td>https://www.airbnb.com/rooms/3308979</td>\n",
              "      <td>20160104002432</td>\n",
              "      <td>2016-01-04</td>\n",
              "      <td>New Modern House-Amazing water view</td>\n",
              "      <td>New modern house built in 2013.  Spectacular s...</td>\n",
              "      <td>Our house is modern, light and fresh with a wa...</td>\n",
              "      <td>New modern house built in 2013.  Spectacular s...</td>\n",
              "      <td>none</td>\n",
              "      <td>Upper Queen Anne is a charming neighborhood fu...</td>\n",
              "      <td>Our house is located just 5 short blocks to To...</td>\n",
              "      <td>A bus stop is just 2 blocks away.   Easy bus a...</td>\n",
              "      <td>NaN</td>\n",
              "      <td>NaN</td>\n",
              "      <td>https://a2.muscache.com/ac/pictures/b4324e0f-a...</td>\n",
              "      <td>NaN</td>\n",
              "      <td>16708587</td>\n",
              "      <td>https://www.airbnb.com/users/show/16708587</td>\n",
              "      <td>Jill</td>\n",
              "      <td>2014-06-12</td>\n",
              "      <td>Seattle, Washington, United States</td>\n",
              "      <td>i love living in Seattle.  i grew up in the mi...</td>\n",
              "      <td>within a few hours</td>\n",
              "      <td>67%</td>\n",
              "      <td>100%</td>\n",
              "      <td>f</td>\n",
              "      <td>https://a1.muscache.com/ac/users/16708587/prof...</td>\n",
              "      <td>https://a1.muscache.com/ac/users/16708587/prof...</td>\n",
              "      <td>Queen Anne</td>\n",
              "      <td>2.0</td>\n",
              "      <td>2.0</td>\n",
              "      <td>['email', 'phone', 'google', 'reviews', 'jumio']</td>\n",
              "      <td>t</td>\n",
              "      <td>t</td>\n",
              "      <td>West Lee Street, Seattle, WA 98119, United States</td>\n",
              "      <td>Queen Anne</td>\n",
              "      <td>West Queen Anne</td>\n",
              "      <td>Queen Anne</td>\n",
              "      <td>Seattle</td>\n",
              "      <td>WA</td>\n",
              "      <td>...</td>\n",
              "      <td>5.0</td>\n",
              "      <td>7.0</td>\n",
              "      <td>Real Bed</td>\n",
              "      <td>{TV,\"Cable TV\",Internet,\"Wireless Internet\",\"A...</td>\n",
              "      <td>NaN</td>\n",
              "      <td>$975.00</td>\n",
              "      <td>NaN</td>\n",
              "      <td>NaN</td>\n",
              "      <td>$1,000.00</td>\n",
              "      <td>$300.00</td>\n",
              "      <td>10</td>\n",
              "      <td>$25.00</td>\n",
              "      <td>4</td>\n",
              "      <td>30</td>\n",
              "      <td>5 weeks ago</td>\n",
              "      <td>t</td>\n",
              "      <td>1</td>\n",
              "      <td>6</td>\n",
              "      <td>17</td>\n",
              "      <td>220</td>\n",
              "      <td>2016-01-04</td>\n",
              "      <td>20</td>\n",
              "      <td>2014-07-30</td>\n",
              "      <td>2015-09-03</td>\n",
              "      <td>97.0</td>\n",
              "      <td>10.0</td>\n",
              "      <td>10.0</td>\n",
              "      <td>10.0</td>\n",
              "      <td>10.0</td>\n",
              "      <td>10.0</td>\n",
              "      <td>10.0</td>\n",
              "      <td>f</td>\n",
              "      <td>NaN</td>\n",
              "      <td>WASHINGTON</td>\n",
              "      <td>f</td>\n",
              "      <td>strict</td>\n",
              "      <td>f</td>\n",
              "      <td>f</td>\n",
              "      <td>2</td>\n",
              "      <td>1.15</td>\n",
              "    </tr>\n",
              "    <tr>\n",
              "      <th>3</th>\n",
              "      <td>7421966</td>\n",
              "      <td>https://www.airbnb.com/rooms/7421966</td>\n",
              "      <td>20160104002432</td>\n",
              "      <td>2016-01-04</td>\n",
              "      <td>Queen Anne Chateau</td>\n",
              "      <td>A charming apartment that sits atop Queen Anne...</td>\n",
              "      <td>NaN</td>\n",
              "      <td>A charming apartment that sits atop Queen Anne...</td>\n",
              "      <td>none</td>\n",
              "      <td>NaN</td>\n",
              "      <td>NaN</td>\n",
              "      <td>NaN</td>\n",
              "      <td>NaN</td>\n",
              "      <td>NaN</td>\n",
              "      <td>https://a0.muscache.com/ac/pictures/94146944/6...</td>\n",
              "      <td>NaN</td>\n",
              "      <td>9851441</td>\n",
              "      <td>https://www.airbnb.com/users/show/9851441</td>\n",
              "      <td>Emily</td>\n",
              "      <td>2013-11-06</td>\n",
              "      <td>Seattle, Washington, United States</td>\n",
              "      <td>NaN</td>\n",
              "      <td>NaN</td>\n",
              "      <td>NaN</td>\n",
              "      <td>NaN</td>\n",
              "      <td>f</td>\n",
              "      <td>https://a2.muscache.com/ac/users/9851441/profi...</td>\n",
              "      <td>https://a2.muscache.com/ac/users/9851441/profi...</td>\n",
              "      <td>Queen Anne</td>\n",
              "      <td>1.0</td>\n",
              "      <td>1.0</td>\n",
              "      <td>['email', 'phone', 'facebook', 'reviews', 'jum...</td>\n",
              "      <td>t</td>\n",
              "      <td>t</td>\n",
              "      <td>8th Avenue West, Seattle, WA 98119, United States</td>\n",
              "      <td>Queen Anne</td>\n",
              "      <td>West Queen Anne</td>\n",
              "      <td>Queen Anne</td>\n",
              "      <td>Seattle</td>\n",
              "      <td>WA</td>\n",
              "      <td>...</td>\n",
              "      <td>0.0</td>\n",
              "      <td>2.0</td>\n",
              "      <td>Real Bed</td>\n",
              "      <td>{Internet,\"Wireless Internet\",Kitchen,\"Indoor ...</td>\n",
              "      <td>NaN</td>\n",
              "      <td>$100.00</td>\n",
              "      <td>$650.00</td>\n",
              "      <td>$2,300.00</td>\n",
              "      <td>NaN</td>\n",
              "      <td>NaN</td>\n",
              "      <td>1</td>\n",
              "      <td>$0.00</td>\n",
              "      <td>1</td>\n",
              "      <td>1125</td>\n",
              "      <td>6 months ago</td>\n",
              "      <td>t</td>\n",
              "      <td>0</td>\n",
              "      <td>0</td>\n",
              "      <td>0</td>\n",
              "      <td>143</td>\n",
              "      <td>2016-01-04</td>\n",
              "      <td>0</td>\n",
              "      <td>NaN</td>\n",
              "      <td>NaN</td>\n",
              "      <td>NaN</td>\n",
              "      <td>NaN</td>\n",
              "      <td>NaN</td>\n",
              "      <td>NaN</td>\n",
              "      <td>NaN</td>\n",
              "      <td>NaN</td>\n",
              "      <td>NaN</td>\n",
              "      <td>f</td>\n",
              "      <td>NaN</td>\n",
              "      <td>WASHINGTON</td>\n",
              "      <td>f</td>\n",
              "      <td>flexible</td>\n",
              "      <td>f</td>\n",
              "      <td>f</td>\n",
              "      <td>1</td>\n",
              "      <td>NaN</td>\n",
              "    </tr>\n",
              "    <tr>\n",
              "      <th>4</th>\n",
              "      <td>278830</td>\n",
              "      <td>https://www.airbnb.com/rooms/278830</td>\n",
              "      <td>20160104002432</td>\n",
              "      <td>2016-01-04</td>\n",
              "      <td>Charming craftsman 3 bdm house</td>\n",
              "      <td>Cozy family craftman house in beautiful neighb...</td>\n",
              "      <td>Cozy family craftman house in beautiful neighb...</td>\n",
              "      <td>Cozy family craftman house in beautiful neighb...</td>\n",
              "      <td>none</td>\n",
              "      <td>We are in the beautiful neighborhood of Queen ...</td>\n",
              "      <td>Belltown</td>\n",
              "      <td>The nearest public transit bus (D Line) is 2 b...</td>\n",
              "      <td>NaN</td>\n",
              "      <td>NaN</td>\n",
              "      <td>https://a1.muscache.com/ac/pictures/6120468/b0...</td>\n",
              "      <td>NaN</td>\n",
              "      <td>1452570</td>\n",
              "      <td>https://www.airbnb.com/users/show/1452570</td>\n",
              "      <td>Emily</td>\n",
              "      <td>2011-11-29</td>\n",
              "      <td>Seattle, Washington, United States</td>\n",
              "      <td>Hi, I live in Seattle, Washington but I'm orig...</td>\n",
              "      <td>within an hour</td>\n",
              "      <td>100%</td>\n",
              "      <td>NaN</td>\n",
              "      <td>f</td>\n",
              "      <td>https://a0.muscache.com/ac/users/1452570/profi...</td>\n",
              "      <td>https://a0.muscache.com/ac/users/1452570/profi...</td>\n",
              "      <td>Queen Anne</td>\n",
              "      <td>2.0</td>\n",
              "      <td>2.0</td>\n",
              "      <td>['email', 'phone', 'facebook', 'reviews', 'kba']</td>\n",
              "      <td>t</td>\n",
              "      <td>t</td>\n",
              "      <td>14th Ave W, Seattle, WA 98119, United States</td>\n",
              "      <td>Queen Anne</td>\n",
              "      <td>West Queen Anne</td>\n",
              "      <td>Queen Anne</td>\n",
              "      <td>Seattle</td>\n",
              "      <td>WA</td>\n",
              "      <td>...</td>\n",
              "      <td>3.0</td>\n",
              "      <td>3.0</td>\n",
              "      <td>Real Bed</td>\n",
              "      <td>{TV,\"Cable TV\",Internet,\"Wireless Internet\",Ki...</td>\n",
              "      <td>NaN</td>\n",
              "      <td>$450.00</td>\n",
              "      <td>NaN</td>\n",
              "      <td>NaN</td>\n",
              "      <td>$700.00</td>\n",
              "      <td>$125.00</td>\n",
              "      <td>6</td>\n",
              "      <td>$15.00</td>\n",
              "      <td>1</td>\n",
              "      <td>1125</td>\n",
              "      <td>7 weeks ago</td>\n",
              "      <td>t</td>\n",
              "      <td>30</td>\n",
              "      <td>60</td>\n",
              "      <td>90</td>\n",
              "      <td>365</td>\n",
              "      <td>2016-01-04</td>\n",
              "      <td>38</td>\n",
              "      <td>2012-07-10</td>\n",
              "      <td>2015-10-24</td>\n",
              "      <td>92.0</td>\n",
              "      <td>9.0</td>\n",
              "      <td>9.0</td>\n",
              "      <td>10.0</td>\n",
              "      <td>10.0</td>\n",
              "      <td>9.0</td>\n",
              "      <td>9.0</td>\n",
              "      <td>f</td>\n",
              "      <td>NaN</td>\n",
              "      <td>WASHINGTON</td>\n",
              "      <td>f</td>\n",
              "      <td>strict</td>\n",
              "      <td>f</td>\n",
              "      <td>f</td>\n",
              "      <td>1</td>\n",
              "      <td>0.89</td>\n",
              "    </tr>\n",
              "  </tbody>\n",
              "</table>\n",
              "<p>5 rows × 92 columns</p>\n",
              "</div>"
            ],
            "text/plain": [
              "        id  ... reviews_per_month\n",
              "0   241032  ...              4.07\n",
              "1   953595  ...              1.48\n",
              "2  3308979  ...              1.15\n",
              "3  7421966  ...               NaN\n",
              "4   278830  ...              0.89\n",
              "\n",
              "[5 rows x 92 columns]"
            ]
          },
          "metadata": {
            "tags": []
          },
          "execution_count": 19
        }
      ]
    },
    {
      "cell_type": "markdown",
      "metadata": {
        "id": "gYzsMHLXwc2d",
        "colab_type": "text"
      },
      "source": [
        "###Clean the data\n",
        "\n",
        "Issues with the data:\n",
        "+ There's a lot of extra columns I won't be using for this analysis\n",
        "+ The price column is not a number and has a special character making analysis impossible"
      ]
    },
    {
      "cell_type": "code",
      "metadata": {
        "id": "VFJxKobWv7Hd",
        "colab_type": "code",
        "colab": {
          "base_uri": "https://localhost:8080/"
        },
        "outputId": "7d661b2f-cd2a-4563-afad-ba2bab4c5a23"
      },
      "source": [
        "#select only the needed columns and remove 1 null value\n",
        "cancel = listing_df[['price', 'cancellation_policy','beds']].dropna()\n",
        "\n",
        "#remove the '$' from the price column and convert to float\n",
        "cancel['price'] = cancel['price'].str.replace('$','').str.replace(',','').astype('float64')\n",
        "\n",
        "#rexamine data\n",
        "cancel.info()\n",
        "cancel.head()"
      ],
      "execution_count": null,
      "outputs": [
        {
          "output_type": "stream",
          "text": [
            "<class 'pandas.core.frame.DataFrame'>\n",
            "Int64Index: 3817 entries, 0 to 3817\n",
            "Data columns (total 3 columns):\n",
            " #   Column               Non-Null Count  Dtype  \n",
            "---  ------               --------------  -----  \n",
            " 0   price                3817 non-null   float64\n",
            " 1   cancellation_policy  3817 non-null   object \n",
            " 2   beds                 3817 non-null   float64\n",
            "dtypes: float64(2), object(1)\n",
            "memory usage: 119.3+ KB\n"
          ],
          "name": "stdout"
        },
        {
          "output_type": "execute_result",
          "data": {
            "text/html": [
              "<div>\n",
              "<style scoped>\n",
              "    .dataframe tbody tr th:only-of-type {\n",
              "        vertical-align: middle;\n",
              "    }\n",
              "\n",
              "    .dataframe tbody tr th {\n",
              "        vertical-align: top;\n",
              "    }\n",
              "\n",
              "    .dataframe thead th {\n",
              "        text-align: right;\n",
              "    }\n",
              "</style>\n",
              "<table border=\"1\" class=\"dataframe\">\n",
              "  <thead>\n",
              "    <tr style=\"text-align: right;\">\n",
              "      <th></th>\n",
              "      <th>price</th>\n",
              "      <th>cancellation_policy</th>\n",
              "      <th>beds</th>\n",
              "    </tr>\n",
              "  </thead>\n",
              "  <tbody>\n",
              "    <tr>\n",
              "      <th>0</th>\n",
              "      <td>85.0</td>\n",
              "      <td>moderate</td>\n",
              "      <td>1.0</td>\n",
              "    </tr>\n",
              "    <tr>\n",
              "      <th>1</th>\n",
              "      <td>150.0</td>\n",
              "      <td>strict</td>\n",
              "      <td>1.0</td>\n",
              "    </tr>\n",
              "    <tr>\n",
              "      <th>2</th>\n",
              "      <td>975.0</td>\n",
              "      <td>strict</td>\n",
              "      <td>7.0</td>\n",
              "    </tr>\n",
              "    <tr>\n",
              "      <th>3</th>\n",
              "      <td>100.0</td>\n",
              "      <td>flexible</td>\n",
              "      <td>2.0</td>\n",
              "    </tr>\n",
              "    <tr>\n",
              "      <th>4</th>\n",
              "      <td>450.0</td>\n",
              "      <td>strict</td>\n",
              "      <td>3.0</td>\n",
              "    </tr>\n",
              "  </tbody>\n",
              "</table>\n",
              "</div>"
            ],
            "text/plain": [
              "   price cancellation_policy  beds\n",
              "0   85.0            moderate   1.0\n",
              "1  150.0              strict   1.0\n",
              "2  975.0              strict   7.0\n",
              "3  100.0            flexible   2.0\n",
              "4  450.0              strict   3.0"
            ]
          },
          "metadata": {
            "tags": []
          },
          "execution_count": 20
        }
      ]
    },
    {
      "cell_type": "markdown",
      "metadata": {
        "id": "uWXgxkd2xoI6",
        "colab_type": "text"
      },
      "source": [
        "### Examine data in pivot to see any obvious trends\n",
        "I chose to look at a pivot table of the average nightly rate broken up by bedrooms and cancellation policy of all listings."
      ]
    },
    {
      "cell_type": "code",
      "metadata": {
        "id": "QpvqganuxruY",
        "colab_type": "code",
        "colab": {
          "base_uri": "https://localhost:8080/"
        },
        "outputId": "c1659483-0e0b-4657-c0d1-9b8e38d5faee"
      },
      "source": [
        "cancel_pivot = cancel.pivot_table(index='beds', columns='cancellation_policy', values='price')\n",
        "cancel_pivot"
      ],
      "execution_count": null,
      "outputs": [
        {
          "output_type": "execute_result",
          "data": {
            "text/html": [
              "<div>\n",
              "<style scoped>\n",
              "    .dataframe tbody tr th:only-of-type {\n",
              "        vertical-align: middle;\n",
              "    }\n",
              "\n",
              "    .dataframe tbody tr th {\n",
              "        vertical-align: top;\n",
              "    }\n",
              "\n",
              "    .dataframe thead th {\n",
              "        text-align: right;\n",
              "    }\n",
              "</style>\n",
              "<table border=\"1\" class=\"dataframe\">\n",
              "  <thead>\n",
              "    <tr style=\"text-align: right;\">\n",
              "      <th>cancellation_policy</th>\n",
              "      <th>flexible</th>\n",
              "      <th>moderate</th>\n",
              "      <th>strict</th>\n",
              "    </tr>\n",
              "    <tr>\n",
              "      <th>beds</th>\n",
              "      <th></th>\n",
              "      <th></th>\n",
              "      <th></th>\n",
              "    </tr>\n",
              "  </thead>\n",
              "  <tbody>\n",
              "    <tr>\n",
              "      <th>1.0</th>\n",
              "      <td>88.034653</td>\n",
              "      <td>92.349227</td>\n",
              "      <td>100.854133</td>\n",
              "    </tr>\n",
              "    <tr>\n",
              "      <th>2.0</th>\n",
              "      <td>132.947598</td>\n",
              "      <td>123.405941</td>\n",
              "      <td>149.781579</td>\n",
              "    </tr>\n",
              "    <tr>\n",
              "      <th>3.0</th>\n",
              "      <td>193.883117</td>\n",
              "      <td>183.954128</td>\n",
              "      <td>200.587045</td>\n",
              "    </tr>\n",
              "    <tr>\n",
              "      <th>4.0</th>\n",
              "      <td>230.520000</td>\n",
              "      <td>205.055556</td>\n",
              "      <td>245.131868</td>\n",
              "    </tr>\n",
              "    <tr>\n",
              "      <th>5.0</th>\n",
              "      <td>404.285714</td>\n",
              "      <td>298.055556</td>\n",
              "      <td>299.187500</td>\n",
              "    </tr>\n",
              "    <tr>\n",
              "      <th>6.0</th>\n",
              "      <td>350.000000</td>\n",
              "      <td>210.600000</td>\n",
              "      <td>344.466667</td>\n",
              "    </tr>\n",
              "    <tr>\n",
              "      <th>7.0</th>\n",
              "      <td>195.000000</td>\n",
              "      <td>195.000000</td>\n",
              "      <td>446.545455</td>\n",
              "    </tr>\n",
              "    <tr>\n",
              "      <th>8.0</th>\n",
              "      <td>41.000000</td>\n",
              "      <td>38.000000</td>\n",
              "      <td>387.500000</td>\n",
              "    </tr>\n",
              "    <tr>\n",
              "      <th>9.0</th>\n",
              "      <td>NaN</td>\n",
              "      <td>NaN</td>\n",
              "      <td>504.250000</td>\n",
              "    </tr>\n",
              "    <tr>\n",
              "      <th>10.0</th>\n",
              "      <td>NaN</td>\n",
              "      <td>250.000000</td>\n",
              "      <td>375.000000</td>\n",
              "    </tr>\n",
              "    <tr>\n",
              "      <th>15.0</th>\n",
              "      <td>NaN</td>\n",
              "      <td>NaN</td>\n",
              "      <td>461.000000</td>\n",
              "    </tr>\n",
              "  </tbody>\n",
              "</table>\n",
              "</div>"
            ],
            "text/plain": [
              "cancellation_policy    flexible    moderate      strict\n",
              "beds                                                   \n",
              "1.0                   88.034653   92.349227  100.854133\n",
              "2.0                  132.947598  123.405941  149.781579\n",
              "3.0                  193.883117  183.954128  200.587045\n",
              "4.0                  230.520000  205.055556  245.131868\n",
              "5.0                  404.285714  298.055556  299.187500\n",
              "6.0                  350.000000  210.600000  344.466667\n",
              "7.0                  195.000000  195.000000  446.545455\n",
              "8.0                   41.000000   38.000000  387.500000\n",
              "9.0                         NaN         NaN  504.250000\n",
              "10.0                        NaN  250.000000  375.000000\n",
              "15.0                        NaN         NaN  461.000000"
            ]
          },
          "metadata": {
            "tags": []
          },
          "execution_count": 21
        }
      ]
    },
    {
      "cell_type": "markdown",
      "metadata": {
        "id": "tk-9uKfAw1oc",
        "colab_type": "text"
      },
      "source": [
        "##Create dataframes\n",
        "Create data frames for:\n",
        "+ 1 bedroom listings\n",
        "+ 2 bedroom listings\n",
        "+ 3 bedroom listings\n",
        "\n",
        "Each of the 3 dataframes will be broken down into 3 additional dataframes, one for each cancellation policy for a total of 12 data frames.\n",
        "\n",
        "\n"
      ]
    },
    {
      "cell_type": "markdown",
      "metadata": {
        "id": "116WQs1o1yrX",
        "colab_type": "text"
      },
      "source": [
        "###One bedroom dataframes\n"
      ]
    },
    {
      "cell_type": "code",
      "metadata": {
        "id": "WFbhsylw7gHe",
        "colab_type": "code",
        "colab": {
          "base_uri": "https://localhost:8080/",
          "height": 194
        },
        "outputId": "2f4fa40d-a6da-4999-9344-5898241afd0d"
      },
      "source": [
        "# all one bedroom listings\n",
        "one_bedroom = cancel.loc[cancel.beds == 1.0]\n",
        "one_bedroom.head()\n",
        "one_bedroom.info()"
      ],
      "execution_count": null,
      "outputs": [
        {
          "output_type": "stream",
          "text": [
            "<class 'pandas.core.frame.DataFrame'>\n",
            "Int64Index: 2201 entries, 0 to 3817\n",
            "Data columns (total 3 columns):\n",
            " #   Column               Non-Null Count  Dtype  \n",
            "---  ------               --------------  -----  \n",
            " 0   price                2201 non-null   float64\n",
            " 1   cancellation_policy  2201 non-null   object \n",
            " 2   beds                 2201 non-null   float64\n",
            "dtypes: float64(2), object(1)\n",
            "memory usage: 68.8+ KB\n"
          ],
          "name": "stdout"
        }
      ]
    },
    {
      "cell_type": "code",
      "metadata": {
        "id": "vDo6DO9o1ih6",
        "colab_type": "code",
        "colab": {
          "base_uri": "https://localhost:8080/",
          "height": 375
        },
        "outputId": "cf38fcfa-8a4a-49c9-b9cb-6a30c7fffac1"
      },
      "source": [
        "# one bedroom strict cancellation policy\n",
        "obr_strict = one_bedroom.loc[one_bedroom.cancellation_policy == 'strict']\n",
        "obr_strict.info()\n",
        "obr_strict.head()"
      ],
      "execution_count": null,
      "outputs": [
        {
          "output_type": "stream",
          "text": [
            "<class 'pandas.core.frame.DataFrame'>\n",
            "Int64Index: 617 entries, 1 to 3809\n",
            "Data columns (total 3 columns):\n",
            " #   Column               Non-Null Count  Dtype  \n",
            "---  ------               --------------  -----  \n",
            " 0   price                617 non-null    float64\n",
            " 1   cancellation_policy  617 non-null    object \n",
            " 2   beds                 617 non-null    float64\n",
            "dtypes: float64(2), object(1)\n",
            "memory usage: 19.3+ KB\n"
          ],
          "name": "stdout"
        },
        {
          "output_type": "execute_result",
          "data": {
            "text/html": [
              "<div>\n",
              "<style scoped>\n",
              "    .dataframe tbody tr th:only-of-type {\n",
              "        vertical-align: middle;\n",
              "    }\n",
              "\n",
              "    .dataframe tbody tr th {\n",
              "        vertical-align: top;\n",
              "    }\n",
              "\n",
              "    .dataframe thead th {\n",
              "        text-align: right;\n",
              "    }\n",
              "</style>\n",
              "<table border=\"1\" class=\"dataframe\">\n",
              "  <thead>\n",
              "    <tr style=\"text-align: right;\">\n",
              "      <th></th>\n",
              "      <th>price</th>\n",
              "      <th>cancellation_policy</th>\n",
              "      <th>beds</th>\n",
              "    </tr>\n",
              "  </thead>\n",
              "  <tbody>\n",
              "    <tr>\n",
              "      <th>1</th>\n",
              "      <td>150.0</td>\n",
              "      <td>strict</td>\n",
              "      <td>1.0</td>\n",
              "    </tr>\n",
              "    <tr>\n",
              "      <th>5</th>\n",
              "      <td>120.0</td>\n",
              "      <td>strict</td>\n",
              "      <td>1.0</td>\n",
              "    </tr>\n",
              "    <tr>\n",
              "      <th>7</th>\n",
              "      <td>60.0</td>\n",
              "      <td>strict</td>\n",
              "      <td>1.0</td>\n",
              "    </tr>\n",
              "    <tr>\n",
              "      <th>8</th>\n",
              "      <td>90.0</td>\n",
              "      <td>strict</td>\n",
              "      <td>1.0</td>\n",
              "    </tr>\n",
              "    <tr>\n",
              "      <th>9</th>\n",
              "      <td>150.0</td>\n",
              "      <td>strict</td>\n",
              "      <td>1.0</td>\n",
              "    </tr>\n",
              "  </tbody>\n",
              "</table>\n",
              "</div>"
            ],
            "text/plain": [
              "   price cancellation_policy  beds\n",
              "1  150.0              strict   1.0\n",
              "5  120.0              strict   1.0\n",
              "7   60.0              strict   1.0\n",
              "8   90.0              strict   1.0\n",
              "9  150.0              strict   1.0"
            ]
          },
          "metadata": {
            "tags": []
          },
          "execution_count": 23
        }
      ]
    },
    {
      "cell_type": "code",
      "metadata": {
        "id": "v0N9sGWP1p8S",
        "colab_type": "code",
        "colab": {
          "base_uri": "https://localhost:8080/",
          "height": 375
        },
        "outputId": "d6ca6d2b-987c-450f-e63b-4312fbf6b45c"
      },
      "source": [
        "# one bedroom moderate cancellation policy\n",
        "obr_moderate = one_bedroom.loc[one_bedroom.cancellation_policy == 'moderate']\n",
        "obr_moderate.info()\n",
        "obr_moderate.head()"
      ],
      "execution_count": null,
      "outputs": [
        {
          "output_type": "stream",
          "text": [
            "<class 'pandas.core.frame.DataFrame'>\n",
            "Int64Index: 776 entries, 0 to 3816\n",
            "Data columns (total 3 columns):\n",
            " #   Column               Non-Null Count  Dtype  \n",
            "---  ------               --------------  -----  \n",
            " 0   price                776 non-null    float64\n",
            " 1   cancellation_policy  776 non-null    object \n",
            " 2   beds                 776 non-null    float64\n",
            "dtypes: float64(2), object(1)\n",
            "memory usage: 24.2+ KB\n"
          ],
          "name": "stdout"
        },
        {
          "output_type": "execute_result",
          "data": {
            "text/html": [
              "<div>\n",
              "<style scoped>\n",
              "    .dataframe tbody tr th:only-of-type {\n",
              "        vertical-align: middle;\n",
              "    }\n",
              "\n",
              "    .dataframe tbody tr th {\n",
              "        vertical-align: top;\n",
              "    }\n",
              "\n",
              "    .dataframe thead th {\n",
              "        text-align: right;\n",
              "    }\n",
              "</style>\n",
              "<table border=\"1\" class=\"dataframe\">\n",
              "  <thead>\n",
              "    <tr style=\"text-align: right;\">\n",
              "      <th></th>\n",
              "      <th>price</th>\n",
              "      <th>cancellation_policy</th>\n",
              "      <th>beds</th>\n",
              "    </tr>\n",
              "  </thead>\n",
              "  <tbody>\n",
              "    <tr>\n",
              "      <th>0</th>\n",
              "      <td>85.0</td>\n",
              "      <td>moderate</td>\n",
              "      <td>1.0</td>\n",
              "    </tr>\n",
              "    <tr>\n",
              "      <th>6</th>\n",
              "      <td>80.0</td>\n",
              "      <td>moderate</td>\n",
              "      <td>1.0</td>\n",
              "    </tr>\n",
              "    <tr>\n",
              "      <th>10</th>\n",
              "      <td>95.0</td>\n",
              "      <td>moderate</td>\n",
              "      <td>1.0</td>\n",
              "    </tr>\n",
              "    <tr>\n",
              "      <th>16</th>\n",
              "      <td>66.0</td>\n",
              "      <td>moderate</td>\n",
              "      <td>1.0</td>\n",
              "    </tr>\n",
              "    <tr>\n",
              "      <th>17</th>\n",
              "      <td>99.0</td>\n",
              "      <td>moderate</td>\n",
              "      <td>1.0</td>\n",
              "    </tr>\n",
              "  </tbody>\n",
              "</table>\n",
              "</div>"
            ],
            "text/plain": [
              "    price cancellation_policy  beds\n",
              "0    85.0            moderate   1.0\n",
              "6    80.0            moderate   1.0\n",
              "10   95.0            moderate   1.0\n",
              "16   66.0            moderate   1.0\n",
              "17   99.0            moderate   1.0"
            ]
          },
          "metadata": {
            "tags": []
          },
          "execution_count": 24
        }
      ]
    },
    {
      "cell_type": "code",
      "metadata": {
        "id": "bHdf90rR1r_V",
        "colab_type": "code",
        "colab": {
          "base_uri": "https://localhost:8080/",
          "height": 375
        },
        "outputId": "4504254f-3d5c-48da-8871-e4d208584337"
      },
      "source": [
        "# one bedroom flexible cancellation policy\n",
        "obr_flexible = one_bedroom.loc[one_bedroom.cancellation_policy == 'flexible']\n",
        "obr_flexible.info()\n",
        "obr_flexible.head()"
      ],
      "execution_count": null,
      "outputs": [
        {
          "output_type": "stream",
          "text": [
            "<class 'pandas.core.frame.DataFrame'>\n",
            "Int64Index: 808 entries, 18 to 3817\n",
            "Data columns (total 3 columns):\n",
            " #   Column               Non-Null Count  Dtype  \n",
            "---  ------               --------------  -----  \n",
            " 0   price                808 non-null    float64\n",
            " 1   cancellation_policy  808 non-null    object \n",
            " 2   beds                 808 non-null    float64\n",
            "dtypes: float64(2), object(1)\n",
            "memory usage: 25.2+ KB\n"
          ],
          "name": "stdout"
        },
        {
          "output_type": "execute_result",
          "data": {
            "text/html": [
              "<div>\n",
              "<style scoped>\n",
              "    .dataframe tbody tr th:only-of-type {\n",
              "        vertical-align: middle;\n",
              "    }\n",
              "\n",
              "    .dataframe tbody tr th {\n",
              "        vertical-align: top;\n",
              "    }\n",
              "\n",
              "    .dataframe thead th {\n",
              "        text-align: right;\n",
              "    }\n",
              "</style>\n",
              "<table border=\"1\" class=\"dataframe\">\n",
              "  <thead>\n",
              "    <tr style=\"text-align: right;\">\n",
              "      <th></th>\n",
              "      <th>price</th>\n",
              "      <th>cancellation_policy</th>\n",
              "      <th>beds</th>\n",
              "    </tr>\n",
              "  </thead>\n",
              "  <tbody>\n",
              "    <tr>\n",
              "      <th>18</th>\n",
              "      <td>200.0</td>\n",
              "      <td>flexible</td>\n",
              "      <td>1.0</td>\n",
              "    </tr>\n",
              "    <tr>\n",
              "      <th>20</th>\n",
              "      <td>110.0</td>\n",
              "      <td>flexible</td>\n",
              "      <td>1.0</td>\n",
              "    </tr>\n",
              "    <tr>\n",
              "      <th>23</th>\n",
              "      <td>75.0</td>\n",
              "      <td>flexible</td>\n",
              "      <td>1.0</td>\n",
              "    </tr>\n",
              "    <tr>\n",
              "      <th>37</th>\n",
              "      <td>45.0</td>\n",
              "      <td>flexible</td>\n",
              "      <td>1.0</td>\n",
              "    </tr>\n",
              "    <tr>\n",
              "      <th>39</th>\n",
              "      <td>80.0</td>\n",
              "      <td>flexible</td>\n",
              "      <td>1.0</td>\n",
              "    </tr>\n",
              "  </tbody>\n",
              "</table>\n",
              "</div>"
            ],
            "text/plain": [
              "    price cancellation_policy  beds\n",
              "18  200.0            flexible   1.0\n",
              "20  110.0            flexible   1.0\n",
              "23   75.0            flexible   1.0\n",
              "37   45.0            flexible   1.0\n",
              "39   80.0            flexible   1.0"
            ]
          },
          "metadata": {
            "tags": []
          },
          "execution_count": 25
        }
      ]
    },
    {
      "cell_type": "markdown",
      "metadata": {
        "id": "UDJmIqkH2ISt",
        "colab_type": "text"
      },
      "source": [
        "###Two bedroom dataframes\n"
      ]
    },
    {
      "cell_type": "code",
      "metadata": {
        "id": "4eUjd9XC7fa4",
        "colab_type": "code",
        "colab": {
          "base_uri": "https://localhost:8080/",
          "height": 194
        },
        "outputId": "64c84263-84bf-4a7b-d5e6-e1e6e6d47d17"
      },
      "source": [
        "# two bedroom listings cancellation policy\n",
        "two_bedroom = cancel.loc[cancel.beds == 2.0]\n",
        "two_bedroom.head()\n",
        "two_bedroom.info()\n",
        "\n"
      ],
      "execution_count": null,
      "outputs": [
        {
          "output_type": "stream",
          "text": [
            "<class 'pandas.core.frame.DataFrame'>\n",
            "Int64Index: 912 entries, 3 to 3814\n",
            "Data columns (total 3 columns):\n",
            " #   Column               Non-Null Count  Dtype  \n",
            "---  ------               --------------  -----  \n",
            " 0   price                912 non-null    float64\n",
            " 1   cancellation_policy  912 non-null    object \n",
            " 2   beds                 912 non-null    float64\n",
            "dtypes: float64(2), object(1)\n",
            "memory usage: 28.5+ KB\n"
          ],
          "name": "stdout"
        }
      ]
    },
    {
      "cell_type": "code",
      "metadata": {
        "id": "AtYuZ6DW2WzI",
        "colab_type": "code",
        "colab": {
          "base_uri": "https://localhost:8080/",
          "height": 375
        },
        "outputId": "19decda6-8e22-4b40-b087-bd97ff282847"
      },
      "source": [
        "# two bedroom strict cancellation policy\n",
        "twbr_strict = two_bedroom.loc[two_bedroom.cancellation_policy == 'strict']\n",
        "twbr_strict.info()\n",
        "twbr_strict.head()"
      ],
      "execution_count": null,
      "outputs": [
        {
          "output_type": "stream",
          "text": [
            "<class 'pandas.core.frame.DataFrame'>\n",
            "Int64Index: 380 entries, 15 to 3805\n",
            "Data columns (total 3 columns):\n",
            " #   Column               Non-Null Count  Dtype  \n",
            "---  ------               --------------  -----  \n",
            " 0   price                380 non-null    float64\n",
            " 1   cancellation_policy  380 non-null    object \n",
            " 2   beds                 380 non-null    float64\n",
            "dtypes: float64(2), object(1)\n",
            "memory usage: 11.9+ KB\n"
          ],
          "name": "stdout"
        },
        {
          "output_type": "execute_result",
          "data": {
            "text/html": [
              "<div>\n",
              "<style scoped>\n",
              "    .dataframe tbody tr th:only-of-type {\n",
              "        vertical-align: middle;\n",
              "    }\n",
              "\n",
              "    .dataframe tbody tr th {\n",
              "        vertical-align: top;\n",
              "    }\n",
              "\n",
              "    .dataframe thead th {\n",
              "        text-align: right;\n",
              "    }\n",
              "</style>\n",
              "<table border=\"1\" class=\"dataframe\">\n",
              "  <thead>\n",
              "    <tr style=\"text-align: right;\">\n",
              "      <th></th>\n",
              "      <th>price</th>\n",
              "      <th>cancellation_policy</th>\n",
              "      <th>beds</th>\n",
              "    </tr>\n",
              "  </thead>\n",
              "  <tbody>\n",
              "    <tr>\n",
              "      <th>15</th>\n",
              "      <td>109.0</td>\n",
              "      <td>strict</td>\n",
              "      <td>2.0</td>\n",
              "    </tr>\n",
              "    <tr>\n",
              "      <th>29</th>\n",
              "      <td>80.0</td>\n",
              "      <td>strict</td>\n",
              "      <td>2.0</td>\n",
              "    </tr>\n",
              "    <tr>\n",
              "      <th>34</th>\n",
              "      <td>159.0</td>\n",
              "      <td>strict</td>\n",
              "      <td>2.0</td>\n",
              "    </tr>\n",
              "    <tr>\n",
              "      <th>41</th>\n",
              "      <td>148.0</td>\n",
              "      <td>strict</td>\n",
              "      <td>2.0</td>\n",
              "    </tr>\n",
              "    <tr>\n",
              "      <th>63</th>\n",
              "      <td>60.0</td>\n",
              "      <td>strict</td>\n",
              "      <td>2.0</td>\n",
              "    </tr>\n",
              "  </tbody>\n",
              "</table>\n",
              "</div>"
            ],
            "text/plain": [
              "    price cancellation_policy  beds\n",
              "15  109.0              strict   2.0\n",
              "29   80.0              strict   2.0\n",
              "34  159.0              strict   2.0\n",
              "41  148.0              strict   2.0\n",
              "63   60.0              strict   2.0"
            ]
          },
          "metadata": {
            "tags": []
          },
          "execution_count": 27
        }
      ]
    },
    {
      "cell_type": "code",
      "metadata": {
        "id": "4Rw0M3v-2W70",
        "colab_type": "code",
        "colab": {
          "base_uri": "https://localhost:8080/",
          "height": 375
        },
        "outputId": "7a360c89-d862-47a5-dd52-30bc809a23e0"
      },
      "source": [
        "# two bedroom moderate cancellation policy\n",
        "twbr_moderate = two_bedroom.loc[two_bedroom.cancellation_policy == 'moderate']\n",
        "twbr_moderate.info()\n",
        "twbr_moderate.head()"
      ],
      "execution_count": null,
      "outputs": [
        {
          "output_type": "stream",
          "text": [
            "<class 'pandas.core.frame.DataFrame'>\n",
            "Int64Index: 303 entries, 21 to 3814\n",
            "Data columns (total 3 columns):\n",
            " #   Column               Non-Null Count  Dtype  \n",
            "---  ------               --------------  -----  \n",
            " 0   price                303 non-null    float64\n",
            " 1   cancellation_policy  303 non-null    object \n",
            " 2   beds                 303 non-null    float64\n",
            "dtypes: float64(2), object(1)\n",
            "memory usage: 9.5+ KB\n"
          ],
          "name": "stdout"
        },
        {
          "output_type": "execute_result",
          "data": {
            "text/html": [
              "<div>\n",
              "<style scoped>\n",
              "    .dataframe tbody tr th:only-of-type {\n",
              "        vertical-align: middle;\n",
              "    }\n",
              "\n",
              "    .dataframe tbody tr th {\n",
              "        vertical-align: top;\n",
              "    }\n",
              "\n",
              "    .dataframe thead th {\n",
              "        text-align: right;\n",
              "    }\n",
              "</style>\n",
              "<table border=\"1\" class=\"dataframe\">\n",
              "  <thead>\n",
              "    <tr style=\"text-align: right;\">\n",
              "      <th></th>\n",
              "      <th>price</th>\n",
              "      <th>cancellation_policy</th>\n",
              "      <th>beds</th>\n",
              "    </tr>\n",
              "  </thead>\n",
              "  <tbody>\n",
              "    <tr>\n",
              "      <th>21</th>\n",
              "      <td>99.0</td>\n",
              "      <td>moderate</td>\n",
              "      <td>2.0</td>\n",
              "    </tr>\n",
              "    <tr>\n",
              "      <th>35</th>\n",
              "      <td>125.0</td>\n",
              "      <td>moderate</td>\n",
              "      <td>2.0</td>\n",
              "    </tr>\n",
              "    <tr>\n",
              "      <th>38</th>\n",
              "      <td>150.0</td>\n",
              "      <td>moderate</td>\n",
              "      <td>2.0</td>\n",
              "    </tr>\n",
              "    <tr>\n",
              "      <th>40</th>\n",
              "      <td>110.0</td>\n",
              "      <td>moderate</td>\n",
              "      <td>2.0</td>\n",
              "    </tr>\n",
              "    <tr>\n",
              "      <th>42</th>\n",
              "      <td>350.0</td>\n",
              "      <td>moderate</td>\n",
              "      <td>2.0</td>\n",
              "    </tr>\n",
              "  </tbody>\n",
              "</table>\n",
              "</div>"
            ],
            "text/plain": [
              "    price cancellation_policy  beds\n",
              "21   99.0            moderate   2.0\n",
              "35  125.0            moderate   2.0\n",
              "38  150.0            moderate   2.0\n",
              "40  110.0            moderate   2.0\n",
              "42  350.0            moderate   2.0"
            ]
          },
          "metadata": {
            "tags": []
          },
          "execution_count": 28
        }
      ]
    },
    {
      "cell_type": "code",
      "metadata": {
        "id": "-6mv8nr02Wmj",
        "colab_type": "code",
        "colab": {
          "base_uri": "https://localhost:8080/",
          "height": 375
        },
        "outputId": "acce53ff-1328-422d-bed9-fb9e35bd180a"
      },
      "source": [
        "# two bedroom flexible cancellation policy\n",
        "twbr_flexible = two_bedroom.loc[two_bedroom.cancellation_policy == 'flexible']\n",
        "twbr_flexible.info()\n",
        "twbr_flexible.head()"
      ],
      "execution_count": null,
      "outputs": [
        {
          "output_type": "stream",
          "text": [
            "<class 'pandas.core.frame.DataFrame'>\n",
            "Int64Index: 229 entries, 3 to 3806\n",
            "Data columns (total 3 columns):\n",
            " #   Column               Non-Null Count  Dtype  \n",
            "---  ------               --------------  -----  \n",
            " 0   price                229 non-null    float64\n",
            " 1   cancellation_policy  229 non-null    object \n",
            " 2   beds                 229 non-null    float64\n",
            "dtypes: float64(2), object(1)\n",
            "memory usage: 7.2+ KB\n"
          ],
          "name": "stdout"
        },
        {
          "output_type": "execute_result",
          "data": {
            "text/html": [
              "<div>\n",
              "<style scoped>\n",
              "    .dataframe tbody tr th:only-of-type {\n",
              "        vertical-align: middle;\n",
              "    }\n",
              "\n",
              "    .dataframe tbody tr th {\n",
              "        vertical-align: top;\n",
              "    }\n",
              "\n",
              "    .dataframe thead th {\n",
              "        text-align: right;\n",
              "    }\n",
              "</style>\n",
              "<table border=\"1\" class=\"dataframe\">\n",
              "  <thead>\n",
              "    <tr style=\"text-align: right;\">\n",
              "      <th></th>\n",
              "      <th>price</th>\n",
              "      <th>cancellation_policy</th>\n",
              "      <th>beds</th>\n",
              "    </tr>\n",
              "  </thead>\n",
              "  <tbody>\n",
              "    <tr>\n",
              "      <th>3</th>\n",
              "      <td>100.0</td>\n",
              "      <td>flexible</td>\n",
              "      <td>2.0</td>\n",
              "    </tr>\n",
              "    <tr>\n",
              "      <th>32</th>\n",
              "      <td>175.0</td>\n",
              "      <td>flexible</td>\n",
              "      <td>2.0</td>\n",
              "    </tr>\n",
              "    <tr>\n",
              "      <th>95</th>\n",
              "      <td>225.0</td>\n",
              "      <td>flexible</td>\n",
              "      <td>2.0</td>\n",
              "    </tr>\n",
              "    <tr>\n",
              "      <th>111</th>\n",
              "      <td>150.0</td>\n",
              "      <td>flexible</td>\n",
              "      <td>2.0</td>\n",
              "    </tr>\n",
              "    <tr>\n",
              "      <th>145</th>\n",
              "      <td>110.0</td>\n",
              "      <td>flexible</td>\n",
              "      <td>2.0</td>\n",
              "    </tr>\n",
              "  </tbody>\n",
              "</table>\n",
              "</div>"
            ],
            "text/plain": [
              "     price cancellation_policy  beds\n",
              "3    100.0            flexible   2.0\n",
              "32   175.0            flexible   2.0\n",
              "95   225.0            flexible   2.0\n",
              "111  150.0            flexible   2.0\n",
              "145  110.0            flexible   2.0"
            ]
          },
          "metadata": {
            "tags": []
          },
          "execution_count": 29
        }
      ]
    },
    {
      "cell_type": "markdown",
      "metadata": {
        "id": "ba0eSMB62Rmp",
        "colab_type": "text"
      },
      "source": [
        "###Three bedroom dataframes"
      ]
    },
    {
      "cell_type": "code",
      "metadata": {
        "id": "rm-A3D2HyCSH",
        "colab_type": "code",
        "colab": {
          "base_uri": "https://localhost:8080/",
          "height": 194
        },
        "outputId": "0fc738fd-fac3-43cd-af00-62da670aeadf"
      },
      "source": [
        "# three bedroom listings cancellation policy\n",
        "three_bedroom = cancel.loc[cancel.beds == 3.0]\n",
        "three_bedroom.head()\n",
        "three_bedroom.info()"
      ],
      "execution_count": null,
      "outputs": [
        {
          "output_type": "stream",
          "text": [
            "<class 'pandas.core.frame.DataFrame'>\n",
            "Int64Index: 433 entries, 4 to 3813\n",
            "Data columns (total 3 columns):\n",
            " #   Column               Non-Null Count  Dtype  \n",
            "---  ------               --------------  -----  \n",
            " 0   price                433 non-null    float64\n",
            " 1   cancellation_policy  433 non-null    object \n",
            " 2   beds                 433 non-null    float64\n",
            "dtypes: float64(2), object(1)\n",
            "memory usage: 13.5+ KB\n"
          ],
          "name": "stdout"
        }
      ]
    },
    {
      "cell_type": "code",
      "metadata": {
        "id": "iYX_NMtp2q70",
        "colab_type": "code",
        "colab": {
          "base_uri": "https://localhost:8080/",
          "height": 375
        },
        "outputId": "3eec5a39-d6bb-499d-d88b-a8da27dc7f80"
      },
      "source": [
        "# three bedroom strict cancellation policy\n",
        "thbr_strict = three_bedroom.loc[three_bedroom.cancellation_policy == 'strict']\n",
        "thbr_strict.info()\n",
        "thbr_strict.head()"
      ],
      "execution_count": null,
      "outputs": [
        {
          "output_type": "stream",
          "text": [
            "<class 'pandas.core.frame.DataFrame'>\n",
            "Int64Index: 247 entries, 4 to 3813\n",
            "Data columns (total 3 columns):\n",
            " #   Column               Non-Null Count  Dtype  \n",
            "---  ------               --------------  -----  \n",
            " 0   price                247 non-null    float64\n",
            " 1   cancellation_policy  247 non-null    object \n",
            " 2   beds                 247 non-null    float64\n",
            "dtypes: float64(2), object(1)\n",
            "memory usage: 7.7+ KB\n"
          ],
          "name": "stdout"
        },
        {
          "output_type": "execute_result",
          "data": {
            "text/html": [
              "<div>\n",
              "<style scoped>\n",
              "    .dataframe tbody tr th:only-of-type {\n",
              "        vertical-align: middle;\n",
              "    }\n",
              "\n",
              "    .dataframe tbody tr th {\n",
              "        vertical-align: top;\n",
              "    }\n",
              "\n",
              "    .dataframe thead th {\n",
              "        text-align: right;\n",
              "    }\n",
              "</style>\n",
              "<table border=\"1\" class=\"dataframe\">\n",
              "  <thead>\n",
              "    <tr style=\"text-align: right;\">\n",
              "      <th></th>\n",
              "      <th>price</th>\n",
              "      <th>cancellation_policy</th>\n",
              "      <th>beds</th>\n",
              "    </tr>\n",
              "  </thead>\n",
              "  <tbody>\n",
              "    <tr>\n",
              "      <th>4</th>\n",
              "      <td>450.0</td>\n",
              "      <td>strict</td>\n",
              "      <td>3.0</td>\n",
              "    </tr>\n",
              "    <tr>\n",
              "      <th>13</th>\n",
              "      <td>165.0</td>\n",
              "      <td>strict</td>\n",
              "      <td>3.0</td>\n",
              "    </tr>\n",
              "    <tr>\n",
              "      <th>31</th>\n",
              "      <td>325.0</td>\n",
              "      <td>strict</td>\n",
              "      <td>3.0</td>\n",
              "    </tr>\n",
              "    <tr>\n",
              "      <th>33</th>\n",
              "      <td>222.0</td>\n",
              "      <td>strict</td>\n",
              "      <td>3.0</td>\n",
              "    </tr>\n",
              "    <tr>\n",
              "      <th>36</th>\n",
              "      <td>348.0</td>\n",
              "      <td>strict</td>\n",
              "      <td>3.0</td>\n",
              "    </tr>\n",
              "  </tbody>\n",
              "</table>\n",
              "</div>"
            ],
            "text/plain": [
              "    price cancellation_policy  beds\n",
              "4   450.0              strict   3.0\n",
              "13  165.0              strict   3.0\n",
              "31  325.0              strict   3.0\n",
              "33  222.0              strict   3.0\n",
              "36  348.0              strict   3.0"
            ]
          },
          "metadata": {
            "tags": []
          },
          "execution_count": 31
        }
      ]
    },
    {
      "cell_type": "code",
      "metadata": {
        "id": "yEI76i-z2rEi",
        "colab_type": "code",
        "colab": {
          "base_uri": "https://localhost:8080/",
          "height": 375
        },
        "outputId": "4cedf5b3-6bb9-4055-f59c-a1ecf1f814b5"
      },
      "source": [
        "# three bedroom moderate cancellation policy\n",
        "thbr_moderate = three_bedroom.loc[three_bedroom.cancellation_policy == 'moderate']\n",
        "thbr_moderate.info()\n",
        "thbr_moderate.head()"
      ],
      "execution_count": null,
      "outputs": [
        {
          "output_type": "stream",
          "text": [
            "<class 'pandas.core.frame.DataFrame'>\n",
            "Int64Index: 109 entries, 12 to 3716\n",
            "Data columns (total 3 columns):\n",
            " #   Column               Non-Null Count  Dtype  \n",
            "---  ------               --------------  -----  \n",
            " 0   price                109 non-null    float64\n",
            " 1   cancellation_policy  109 non-null    object \n",
            " 2   beds                 109 non-null    float64\n",
            "dtypes: float64(2), object(1)\n",
            "memory usage: 3.4+ KB\n"
          ],
          "name": "stdout"
        },
        {
          "output_type": "execute_result",
          "data": {
            "text/html": [
              "<div>\n",
              "<style scoped>\n",
              "    .dataframe tbody tr th:only-of-type {\n",
              "        vertical-align: middle;\n",
              "    }\n",
              "\n",
              "    .dataframe tbody tr th {\n",
              "        vertical-align: top;\n",
              "    }\n",
              "\n",
              "    .dataframe thead th {\n",
              "        text-align: right;\n",
              "    }\n",
              "</style>\n",
              "<table border=\"1\" class=\"dataframe\">\n",
              "  <thead>\n",
              "    <tr style=\"text-align: right;\">\n",
              "      <th></th>\n",
              "      <th>price</th>\n",
              "      <th>cancellation_policy</th>\n",
              "      <th>beds</th>\n",
              "    </tr>\n",
              "  </thead>\n",
              "  <tbody>\n",
              "    <tr>\n",
              "      <th>12</th>\n",
              "      <td>245.0</td>\n",
              "      <td>moderate</td>\n",
              "      <td>3.0</td>\n",
              "    </tr>\n",
              "    <tr>\n",
              "      <th>24</th>\n",
              "      <td>600.0</td>\n",
              "      <td>moderate</td>\n",
              "      <td>3.0</td>\n",
              "    </tr>\n",
              "    <tr>\n",
              "      <th>28</th>\n",
              "      <td>300.0</td>\n",
              "      <td>moderate</td>\n",
              "      <td>3.0</td>\n",
              "    </tr>\n",
              "    <tr>\n",
              "      <th>49</th>\n",
              "      <td>130.0</td>\n",
              "      <td>moderate</td>\n",
              "      <td>3.0</td>\n",
              "    </tr>\n",
              "    <tr>\n",
              "      <th>58</th>\n",
              "      <td>400.0</td>\n",
              "      <td>moderate</td>\n",
              "      <td>3.0</td>\n",
              "    </tr>\n",
              "  </tbody>\n",
              "</table>\n",
              "</div>"
            ],
            "text/plain": [
              "    price cancellation_policy  beds\n",
              "12  245.0            moderate   3.0\n",
              "24  600.0            moderate   3.0\n",
              "28  300.0            moderate   3.0\n",
              "49  130.0            moderate   3.0\n",
              "58  400.0            moderate   3.0"
            ]
          },
          "metadata": {
            "tags": []
          },
          "execution_count": 32
        }
      ]
    },
    {
      "cell_type": "code",
      "metadata": {
        "id": "T2jTR0ft2q0L",
        "colab_type": "code",
        "colab": {
          "base_uri": "https://localhost:8080/",
          "height": 375
        },
        "outputId": "c89704a9-3762-480a-8708-5c1ce76acb37"
      },
      "source": [
        "# three bedroom flexible cancellation policy\n",
        "thbr_flexible = three_bedroom.loc[three_bedroom.cancellation_policy == 'flexible']\n",
        "thbr_flexible.info()\n",
        "thbr_flexible.head()"
      ],
      "execution_count": null,
      "outputs": [
        {
          "output_type": "stream",
          "text": [
            "<class 'pandas.core.frame.DataFrame'>\n",
            "Int64Index: 77 entries, 26 to 3760\n",
            "Data columns (total 3 columns):\n",
            " #   Column               Non-Null Count  Dtype  \n",
            "---  ------               --------------  -----  \n",
            " 0   price                77 non-null     float64\n",
            " 1   cancellation_policy  77 non-null     object \n",
            " 2   beds                 77 non-null     float64\n",
            "dtypes: float64(2), object(1)\n",
            "memory usage: 2.4+ KB\n"
          ],
          "name": "stdout"
        },
        {
          "output_type": "execute_result",
          "data": {
            "text/html": [
              "<div>\n",
              "<style scoped>\n",
              "    .dataframe tbody tr th:only-of-type {\n",
              "        vertical-align: middle;\n",
              "    }\n",
              "\n",
              "    .dataframe tbody tr th {\n",
              "        vertical-align: top;\n",
              "    }\n",
              "\n",
              "    .dataframe thead th {\n",
              "        text-align: right;\n",
              "    }\n",
              "</style>\n",
              "<table border=\"1\" class=\"dataframe\">\n",
              "  <thead>\n",
              "    <tr style=\"text-align: right;\">\n",
              "      <th></th>\n",
              "      <th>price</th>\n",
              "      <th>cancellation_policy</th>\n",
              "      <th>beds</th>\n",
              "    </tr>\n",
              "  </thead>\n",
              "  <tbody>\n",
              "    <tr>\n",
              "      <th>26</th>\n",
              "      <td>150.0</td>\n",
              "      <td>flexible</td>\n",
              "      <td>3.0</td>\n",
              "    </tr>\n",
              "    <tr>\n",
              "      <th>90</th>\n",
              "      <td>105.0</td>\n",
              "      <td>flexible</td>\n",
              "      <td>3.0</td>\n",
              "    </tr>\n",
              "    <tr>\n",
              "      <th>154</th>\n",
              "      <td>200.0</td>\n",
              "      <td>flexible</td>\n",
              "      <td>3.0</td>\n",
              "    </tr>\n",
              "    <tr>\n",
              "      <th>168</th>\n",
              "      <td>110.0</td>\n",
              "      <td>flexible</td>\n",
              "      <td>3.0</td>\n",
              "    </tr>\n",
              "    <tr>\n",
              "      <th>193</th>\n",
              "      <td>116.0</td>\n",
              "      <td>flexible</td>\n",
              "      <td>3.0</td>\n",
              "    </tr>\n",
              "  </tbody>\n",
              "</table>\n",
              "</div>"
            ],
            "text/plain": [
              "     price cancellation_policy  beds\n",
              "26   150.0            flexible   3.0\n",
              "90   105.0            flexible   3.0\n",
              "154  200.0            flexible   3.0\n",
              "168  110.0            flexible   3.0\n",
              "193  116.0            flexible   3.0"
            ]
          },
          "metadata": {
            "tags": []
          },
          "execution_count": 33
        }
      ]
    },
    {
      "cell_type": "markdown",
      "metadata": {
        "id": "eq-LtzG6X5v1",
        "colab_type": "text"
      },
      "source": [
        "### Dataframes summary \n",
        "\n",
        "Looking at the sample size, they are far from even. The three bedroom dataframes have the smallest sample size where the one bedrooms offer a far greater sample size. All of the samples are large enough to do analysis on."
      ]
    },
    {
      "cell_type": "markdown",
      "metadata": {
        "id": "3ojT3uAxyuH0",
        "colab_type": "text"
      },
      "source": [
        "## Determine distribution"
      ]
    },
    {
      "cell_type": "markdown",
      "metadata": {
        "id": "p-MaaiFf3Wf-",
        "colab_type": "text"
      },
      "source": [
        "### One bedroom"
      ]
    },
    {
      "cell_type": "code",
      "metadata": {
        "id": "wF6kF5xJ3ab3",
        "colab_type": "code",
        "colab": {
          "base_uri": "https://localhost:8080/",
          "height": 312
        },
        "outputId": "2d28afdf-546d-4d55-defd-e09639afaf90"
      },
      "source": [
        "plt.hist(obr_strict.price, alpha = .5)\n",
        "plt.hist(obr_moderate.price, alpha = .5)\n",
        "plt.hist(obr_flexible.price, alpha = .5)\n",
        "plt.xlabel('nightly rate')\n",
        "plt.ylabel('number of listings')\n",
        "plt.title('one bedroom homes')"
      ],
      "execution_count": null,
      "outputs": [
        {
          "output_type": "execute_result",
          "data": {
            "text/plain": [
              "Text(0.5, 1.0, 'one bedroom homes')"
            ]
          },
          "metadata": {
            "tags": []
          },
          "execution_count": 36
        },
        {
          "output_type": "display_data",
          "data": {
            "image/png": "[encoded data removed]",
            "text/plain": [
              "<Figure size 432x288 with 1 Axes>"
            ]
          },
          "metadata": {
            "tags": [],
            "needs_background": "light"
          }
        }
      ]
    },
    {
      "cell_type": "code",
      "metadata": {
        "id": "4Y-nlJhx4BHp",
        "colab_type": "code",
        "colab": {}
      },
      "source": [
        "print('strict: ',stats.describe(obr_strict.price))\n",
        "print('moderate: ',stats.describe(obr_moderate.price))\n",
        "print('flexible: ',stats.describe(obr_flexible.price))"
      ],
      "execution_count": null,
      "outputs": []
    },
    {
      "cell_type": "markdown",
      "metadata": {
        "id": "wOMf7-TG3wEU",
        "colab_type": "text"
      },
      "source": [
        "The strict data has a kurtosis of ~2.3 and a skewness of ~1.0 making it within allowable limits, however because it's close enough to 3 and the others are not, I'm going to treat them all as non-normal."
      ]
    },
    {
      "cell_type": "markdown",
      "metadata": {
        "colab_type": "text",
        "id": "9PSvL7lw4L_D"
      },
      "source": [
        "### Two bedroom"
      ]
    },
    {
      "cell_type": "code",
      "metadata": {
        "colab_type": "code",
        "id": "ffx0NyHY4ElD",
        "colab": {
          "base_uri": "https://localhost:8080/",
          "height": 312
        },
        "outputId": "8187cf32-57dd-430d-8a73-13441438277a"
      },
      "source": [
        "plt.hist(twbr_strict.price, alpha = .5)\n",
        "plt.hist(twbr_moderate.price, alpha = .5)\n",
        "plt.hist(twbr_flexible.price, alpha = .5)\n",
        "plt.xlabel('nightly rate')\n",
        "plt.ylabel('number of listings')\n",
        "plt.title('two bedroom homes')"
      ],
      "execution_count": null,
      "outputs": [
        {
          "output_type": "execute_result",
          "data": {
            "text/plain": [
              "Text(0.5, 1.0, 'two bedroom homes')"
            ]
          },
          "metadata": {
            "tags": []
          },
          "execution_count": 38
        },
        {
          "output_type": "display_data",
          "data": {
            "image/png": "[encoded data removed]",
            "text/plain": [
              "<Figure size 432x288 with 1 Axes>"
            ]
          },
          "metadata": {
            "tags": [],
            "needs_background": "light"
          }
        }
      ]
    },
    {
      "cell_type": "code",
      "metadata": {
        "colab_type": "code",
        "id": "Lc7VI5bW4Ifn",
        "colab": {
          "base_uri": "https://localhost:8080/",
          "height": 70
        },
        "outputId": "ded46004-6f94-4c7b-dc5d-8cb52ad14b4f"
      },
      "source": [
        "print('strict: ',stats.describe(twbr_strict.price))\n",
        "print('moderate: ',stats.describe(twbr_moderate.price))\n",
        "print('flexible: ',stats.describe(twbr_flexible.price))\n"
      ],
      "execution_count": null,
      "outputs": [
        {
          "output_type": "stream",
          "text": [
            "strict:  DescribeResult(nobs=380, minmax=(29.0, 557.0), mean=149.78157894736842, variance=5799.733169004305, skewness=1.8525638272838925, kurtosis=5.04209231348978)\n",
            "moderate:  DescribeResult(nobs=303, minmax=(25.0, 350.0), mean=123.4059405940594, variance=2552.7651301553997, skewness=1.5030117922471184, kurtosis=3.4891731837200766)\n",
            "flexible:  DescribeResult(nobs=229, minmax=(35.0, 1000.0), mean=132.94759825327512, variance=7632.5586455221, skewness=4.756864810290107, kurtosis=41.13818511168561)\n"
          ],
          "name": "stdout"
        }
      ]
    },
    {
      "cell_type": "markdown",
      "metadata": {
        "id": "mNf9FzNG5G6U",
        "colab_type": "text"
      },
      "source": [
        "The kurtosis of all three 2 bedroom samples are outside the range of normal."
      ]
    },
    {
      "cell_type": "markdown",
      "metadata": {
        "colab_type": "text",
        "id": "QF6ck85M4QvD"
      },
      "source": [
        "### Three bedroom"
      ]
    },
    {
      "cell_type": "code",
      "metadata": {
        "colab_type": "code",
        "id": "0lzMTbrJ4ZLg",
        "colab": {
          "base_uri": "https://localhost:8080/",
          "height": 312
        },
        "outputId": "3ce89b39-8388-40df-f992-57435f77b694"
      },
      "source": [
        "plt.hist(thbr_strict.price, alpha = .5)\n",
        "plt.hist(thbr_moderate.price, alpha = .5)\n",
        "plt.hist(thbr_flexible.price, alpha = .5)\n",
        "plt.xlabel('nightly rate')\n",
        "plt.ylabel('number of listings')\n",
        "plt.title('three bedroom homes')"
      ],
      "execution_count": null,
      "outputs": [
        {
          "output_type": "execute_result",
          "data": {
            "text/plain": [
              "Text(0.5, 1.0, 'three bedroom homes')"
            ]
          },
          "metadata": {
            "tags": []
          },
          "execution_count": 39
        },
        {
          "output_type": "display_data",
          "data": {
            "image/png": "[encoded data removed]",
            "text/plain": [
              "<Figure size 432x288 with 1 Axes>"
            ]
          },
          "metadata": {
            "tags": [],
            "needs_background": "light"
          }
        }
      ]
    },
    {
      "cell_type": "code",
      "metadata": {
        "colab_type": "code",
        "id": "zKLBXH6W5Upc",
        "colab": {
          "base_uri": "https://localhost:8080/",
          "height": 70
        },
        "outputId": "e7e5eb6d-5f27-4ad0-9c53-eeaea535c191"
      },
      "source": [
        "print('strict: ',stats.describe(thbr_strict.price))\n",
        "print('moderate: ',stats.describe(thbr_moderate.price))\n",
        "print('flexible: ',stats.describe(thbr_flexible.price))"
      ],
      "execution_count": null,
      "outputs": [
        {
          "output_type": "stream",
          "text": [
            "strict:  DescribeResult(nobs=247, minmax=(49.0, 950.0), mean=200.58704453441297, variance=9957.87755505085, skewness=2.4089088878784963, kurtosis=12.22291853981472)\n",
            "moderate:  DescribeResult(nobs=109, minmax=(62.0, 749.0), mean=183.954128440367, variance=11926.396024464831, skewness=2.5113783364035815, kurtosis=8.426868485000623)\n",
            "flexible:  DescribeResult(nobs=77, minmax=(39.0, 680.0), mean=193.88311688311688, variance=16257.68352699932, skewness=1.910455318360516, kurtosis=3.8827892489308873)\n"
          ],
          "name": "stdout"
        }
      ]
    },
    {
      "cell_type": "markdown",
      "metadata": {
        "colab_type": "text",
        "id": "I3WDw6z25bIP"
      },
      "source": [
        "The kurtosis of all three 3 bedroom samples are outside the range of normal."
      ]
    },
    {
      "cell_type": "markdown",
      "metadata": {
        "id": "44D8ERzC6KGC",
        "colab_type": "text"
      },
      "source": [
        "## Test for differences\n",
        "\n",
        "Because all data sets were non-normal in distribution a Kruskal-Wallis test is appropriate for each set. I chose this test because the data sets are not dependent.\n",
        "\n",
        "###Kruskal-Wallis Test\n",
        "The Kruskal-Wallis test is used for two or more non-normal groups.\n",
        "\n",
        "The null hypothesis of the Kruskal–Wallis test is that the **mean ranks of the groups are the same.**"
      ]
    },
    {
      "cell_type": "markdown",
      "metadata": {
        "id": "s4aWNuM36NNr",
        "colab_type": "text"
      },
      "source": [
        "### One bedroom"
      ]
    },
    {
      "cell_type": "code",
      "metadata": {
        "id": "AwDtOjg66M0w",
        "colab_type": "code",
        "colab": {
          "base_uri": "https://localhost:8080/",
          "height": 34
        },
        "outputId": "9feaf79b-b2cd-4066-b579-c942d9f9d60b"
      },
      "source": [
        "stats.kruskal(obr_strict.price, obr_moderate.price, obr_flexible.price)"
      ],
      "execution_count": null,
      "outputs": [
        {
          "output_type": "execute_result",
          "data": {
            "text/plain": [
              "KruskalResult(statistic=28.298522980840627, pvalue=7.162321501960055e-07)"
            ]
          },
          "metadata": {
            "tags": []
          },
          "execution_count": 99
        }
      ]
    },
    {
      "cell_type": "markdown",
      "metadata": {
        "id": "-wxJpAtB7Fvt",
        "colab_type": "text"
      },
      "source": [
        "Because the pvalue is less than .05, the null hypothesis is rejected. This means that the means are different, however it doesn't appear to be a large difference looking at the H value."
      ]
    },
    {
      "cell_type": "code",
      "metadata": {
        "id": "9r9o3WOz7OrW",
        "colab_type": "code",
        "colab": {
          "base_uri": "https://localhost:8080/",
          "height": 320
        },
        "outputId": "78a72aa3-5b42-437e-9f94-9a652162d40a"
      },
      "source": [
        "one_bedroom.boxplot('price',  by='cancellation_policy')"
      ],
      "execution_count": null,
      "outputs": [
        {
          "output_type": "execute_result",
          "data": {
            "text/plain": [
              "<matplotlib.axes._subplots.AxesSubplot at 0x7f2c6ad3f518>"
            ]
          },
          "metadata": {
            "tags": []
          },
          "execution_count": 43
        },
        {
          "output_type": "display_data",
          "data": {
            "image/png": "[encoded data removed]",
            "text/plain": [
              "<Figure size 432x288 with 1 Axes>"
            ]
          },
          "metadata": {
            "tags": [],
            "needs_background": "light"
          }
        }
      ]
    },
    {
      "cell_type": "markdown",
      "metadata": {
        "colab_type": "text",
        "id": "l9437wLk73fL"
      },
      "source": [
        "### Two bedroom"
      ]
    },
    {
      "cell_type": "code",
      "metadata": {
        "colab_type": "code",
        "id": "YwNNmVPA73fL",
        "colab": {
          "base_uri": "https://localhost:8080/",
          "height": 34
        },
        "outputId": "4eb07333-96f7-4673-c74c-c3890aed0a33"
      },
      "source": [
        "stats.kruskal(twbr_strict.price, twbr_moderate.price, twbr_flexible.price)"
      ],
      "execution_count": null,
      "outputs": [
        {
          "output_type": "execute_result",
          "data": {
            "text/plain": [
              "KruskalResult(statistic=26.23849979091334, pvalue=2.0062366677334497e-06)"
            ]
          },
          "metadata": {
            "tags": []
          },
          "execution_count": 102
        }
      ]
    },
    {
      "cell_type": "markdown",
      "metadata": {
        "colab_type": "text",
        "id": "HAb256sq73fN"
      },
      "source": [
        "Because the pvalue is less than .05, the null hypothesis is rejected. This means that the means are different, however it doesn't appear to be a large difference looking at the H value."
      ]
    },
    {
      "cell_type": "code",
      "metadata": {
        "colab_type": "code",
        "id": "dIu28aak73fO",
        "colab": {
          "base_uri": "https://localhost:8080/",
          "height": 320
        },
        "outputId": "8a10f56b-42ce-47fb-f3ce-749a0c878ed6"
      },
      "source": [
        "two_bedroom.boxplot('price',  by='cancellation_policy')"
      ],
      "execution_count": null,
      "outputs": [
        {
          "output_type": "execute_result",
          "data": {
            "text/plain": [
              "<matplotlib.axes._subplots.AxesSubplot at 0x7f33a3b44c88>"
            ]
          },
          "metadata": {
            "tags": []
          },
          "execution_count": 103
        },
        {
          "output_type": "display_data",
          "data": {
            "image/png": "[encoded data removed]",
            "text/plain": [
              "<Figure size 432x288 with 1 Axes>"
            ]
          },
          "metadata": {
            "tags": [],
            "needs_background": "light"
          }
        }
      ]
    },
    {
      "cell_type": "markdown",
      "metadata": {
        "colab_type": "text",
        "id": "FlR6nChT794k"
      },
      "source": [
        "### Three bedroom"
      ]
    },
    {
      "cell_type": "code",
      "metadata": {
        "colab_type": "code",
        "id": "D2oiWV3X794k",
        "colab": {
          "base_uri": "https://localhost:8080/",
          "height": 34
        },
        "outputId": "5253b183-6576-4b03-9006-f6f0e47095cc"
      },
      "source": [
        "stats.kruskal(thbr_strict.price, thbr_moderate.price, thbr_flexible.price)"
      ],
      "execution_count": null,
      "outputs": [
        {
          "output_type": "execute_result",
          "data": {
            "text/plain": [
              "KruskalResult(statistic=6.94840260098437, pvalue=0.030986572902842756)"
            ]
          },
          "metadata": {
            "tags": []
          },
          "execution_count": 104
        }
      ]
    },
    {
      "cell_type": "markdown",
      "metadata": {
        "colab_type": "text",
        "id": "xVR-kZcl794n"
      },
      "source": [
        "The p value is larger than .05 so the null hypothesis is not rejected for 3 bedroom listings. This means there is no significant difference between the means"
      ]
    },
    {
      "cell_type": "code",
      "metadata": {
        "colab_type": "code",
        "id": "q4-RYwKc794n",
        "colab": {
          "base_uri": "https://localhost:8080/",
          "height": 320
        },
        "outputId": "1c73d352-b00c-471d-8aee-75f65366c942"
      },
      "source": [
        "three_bedroom.boxplot('price',  by='cancellation_policy')"
      ],
      "execution_count": null,
      "outputs": [
        {
          "output_type": "execute_result",
          "data": {
            "text/plain": [
              "<matplotlib.axes._subplots.AxesSubplot at 0x7f33a2e6c5c0>"
            ]
          },
          "metadata": {
            "tags": []
          },
          "execution_count": 105
        },
        {
          "output_type": "display_data",
          "data": {
            "image/png": "[encoded data removed]",
            "text/plain": [
              "<Figure size 432x288 with 1 Axes>"
            ]
          },
          "metadata": {
            "tags": [],
            "needs_background": "light"
          }
        }
      ]
    },
    {
      "cell_type": "markdown",
      "metadata": {
        "id": "a0dEArKAa_VU",
        "colab_type": "text"
      },
      "source": [
        "### Looking at all the listings\n",
        "To see if the pattern holds with the other listings, I opted to run all the remaining listings using a loop to see all the results side by side."
      ]
    },
    {
      "cell_type": "code",
      "metadata": {
        "id": "L8rEAvQ98xbp",
        "colab_type": "code",
        "colab": {
          "base_uri": "https://localhost:8080/",
          "height": 212
        },
        "outputId": "7a6c3e03-60de-4f0d-c015-5fd3d172d9ff"
      },
      "source": [
        "for beds in cancel.beds.sort_values().unique():\n",
        "    room_data = cancel[cancel.beds == beds]\n",
        "    print(beds, stats.kruskal(room_data[room_data.cancellation_policy == 'strict'].price,\n",
        "                        room_data[room_data.cancellation_policy == 'moderate'].price,\n",
        "                        room_data[room_data.cancellation_policy == 'flexible'].price,\n",
        "                        )\n",
        "    )"
      ],
      "execution_count": null,
      "outputs": [
        {
          "output_type": "stream",
          "text": [
            "1.0 KruskalResult(statistic=28.298522980840627, pvalue=7.162321501960055e-07)\n",
            "2.0 KruskalResult(statistic=26.23849979091334, pvalue=2.0062366677334497e-06)\n",
            "3.0 KruskalResult(statistic=6.94840260098437, pvalue=0.030986572902842756)\n",
            "4.0 KruskalResult(statistic=2.5303591927483957, pvalue=0.282188611537802)\n",
            "5.0 KruskalResult(statistic=2.5673251927595486, pvalue=0.2770208246497131)\n",
            "6.0 KruskalResult(statistic=2.80875027073859, pvalue=0.24552042556051898)\n",
            "7.0 KruskalResult(statistic=5.221246169560777, pvalue=0.07348873977937)\n",
            "8.0 KruskalResult(statistic=2.6999999999999993, pvalue=0.2592402606458915)\n",
            "9.0 KruskalResult(statistic=nan, pvalue=nan)\n",
            "10.0 KruskalResult(statistic=nan, pvalue=nan)\n",
            "15.0 KruskalResult(statistic=nan, pvalue=nan)\n"
          ],
          "name": "stdout"
        }
      ]
    },
    {
      "cell_type": "markdown",
      "metadata": {
        "id": "_kPlhzfBbWP7",
        "colab_type": "text"
      },
      "source": [
        "# 5. Results\n",
        "\n",
        "Looking at the histograms and the skewness and kurtosis variables, none of the data sets were normally distributed. Thus I opted to use a Kruskal-Wallis test since the data met the assumptions:\n",
        "1. Your dependent variable should be measured at the ordinal or continuous level\n",
        "2. Your independent variable should consist of two or more categorical, independent groups.\n",
        "3. You should have independence of observations\n",
        "\n",
        "The null hypothesis was rejected for 1 and 2 bedroom listings indicating a difference in means between the three cancellation policies.\n",
        "\n",
        "The null hypothesis was not rejected for any of the other numbers of bedrooms.\n"
      ]
    },
    {
      "cell_type": "markdown",
      "metadata": {
        "id": "ReCYlt9-c1cX",
        "colab_type": "text"
      },
      "source": [
        "# 6. Discussion and recommendation\n",
        "\n",
        "Prices of different homes with different cancellation policies don't appear to be significantly different for most larger homes. One and two bedroom homes do seem to have a slight difference, however it does not appear to be a large difference.\n",
        "\n",
        "The next steps would be to determine if other factors could be affecting the change in prices. The box plot suggests there are quite a few outliers suggesting that there is likely another cause for the price difference. If these factors could be accounted for, there could still be a difference between policies. "
      ]
    }
  ]
}